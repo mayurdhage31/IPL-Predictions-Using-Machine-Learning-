{
 "cells": [
  {
   "cell_type": "markdown",
   "id": "3e03abba",
   "metadata": {},
   "source": [
    "## Table of Contents"
   ]
  },
  {
   "cell_type": "markdown",
   "id": "01f91943",
   "metadata": {},
   "source": [
    "#### 1) Importing the Dataset \n",
    "#### 2) Data Cleaning \n",
    "#### 3) Data Preparation\n",
    "#### 4) Exploratory Data Analysis\n",
    "#### 5) Train and Test Data\n",
    "#### 6) Model Building\n",
    "#### 7) Predictions and Results"
   ]
  },
  {
   "cell_type": "markdown",
   "id": "095698eb",
   "metadata": {},
   "source": [
    "## Importing the Dataset"
   ]
  },
  {
   "cell_type": "code",
   "execution_count": 4,
   "id": "dbab22c4",
   "metadata": {},
   "outputs": [],
   "source": [
    "ipl = read.csv('IPL Data.csv', stringsAsFactors = TRUE)"
   ]
  },
  {
   "cell_type": "code",
   "execution_count": 5,
   "id": "29254b20",
   "metadata": {},
   "outputs": [
    {
     "data": {
      "text/html": [
       "<table>\n",
       "<thead><tr><th scope=col>id</th><th scope=col>city</th><th scope=col>Season</th><th scope=col>player_of_match</th><th scope=col>venue</th><th scope=col>neutral_venue</th><th scope=col>team1</th><th scope=col>team2</th><th scope=col>toss_winner</th><th scope=col>toss_decision</th><th scope=col>winner</th><th scope=col>result</th><th scope=col>result_margin</th><th scope=col>playoff</th><th scope=col>team1.IPL_titles</th><th scope=col>team2.IPL_titles</th><th scope=col>team1_captain.change</th><th scope=col>team2_captain.change</th><th scope=col>umpire1</th><th scope=col>umpire2</th></tr></thead>\n",
       "<tbody>\n",
       "\t<tr><td>335982                                    </td><td>Bangalore                                 </td><td>2008                                      </td><td>BB McCullum                               </td><td>M Chinnaswamy Stadium                     </td><td>0                                         </td><td>Royal Challengers Bangalore               </td><td>Kolkata Knight Riders                     </td><td>Royal Challengers Bangalore               </td><td>field                                     </td><td>Kolkata Knight Riders                     </td><td>runs                                      </td><td>140                                       </td><td>0                                         </td><td>0                                         </td><td>0                                         </td><td>0                                         </td><td>0                                         </td><td>Asad Rauf                                 </td><td>RE Koertzen                               </td></tr>\n",
       "\t<tr><td>335983                                    </td><td>Chandigarh                                </td><td>2008                                      </td><td>MEK Hussey                                </td><td>Punjab Cricket Association Stadium, Mohali</td><td>0                                         </td><td>Kings XI Punjab                           </td><td>Chennai Super Kings                       </td><td>Chennai Super Kings                       </td><td>bat                                       </td><td>Chennai Super Kings                       </td><td>runs                                      </td><td> 33                                       </td><td>0                                         </td><td>0                                         </td><td>0                                         </td><td>0                                         </td><td>0                                         </td><td>MR Benson                                 </td><td>SL Shastri                                </td></tr>\n",
       "\t<tr><td>335984                                    </td><td>Delhi                                     </td><td>2008                                      </td><td>MF Maharoof                               </td><td>Feroz Shah Kotla                          </td><td>0                                         </td><td>Delhi Daredevils                          </td><td>Rajasthan Royals                          </td><td>Rajasthan Royals                          </td><td>bat                                       </td><td>Delhi Daredevils                          </td><td>wickets                                   </td><td>  9                                       </td><td>0                                         </td><td>0                                         </td><td>0                                         </td><td>0                                         </td><td>0                                         </td><td>Aleem Dar                                 </td><td>GA Pratapkumar                            </td></tr>\n",
       "\t<tr><td>335985                                    </td><td>Mumbai                                    </td><td>2008                                      </td><td>MV Boucher                                </td><td>Wankhede Stadium                          </td><td>0                                         </td><td>Mumbai Indians                            </td><td>Royal Challengers Bangalore               </td><td>Mumbai Indians                            </td><td>bat                                       </td><td>Royal Challengers Bangalore               </td><td>wickets                                   </td><td>  5                                       </td><td>0                                         </td><td>0                                         </td><td>0                                         </td><td>0                                         </td><td>0                                         </td><td>SJ Davis                                  </td><td>DJ Harper                                 </td></tr>\n",
       "\t<tr><td>335986                                    </td><td>Kolkata                                   </td><td>2008                                      </td><td>DJ Hussey                                 </td><td>Eden Gardens                              </td><td>0                                         </td><td>Kolkata Knight Riders                     </td><td>Deccan Chargers                           </td><td>Deccan Chargers                           </td><td>bat                                       </td><td>Kolkata Knight Riders                     </td><td>wickets                                   </td><td>  5                                       </td><td>0                                         </td><td>0                                         </td><td>0                                         </td><td>0                                         </td><td>0                                         </td><td>BF Bowden                                 </td><td>K Hariharan                               </td></tr>\n",
       "\t<tr><td>335987                                    </td><td>Jaipur                                    </td><td>2008                                      </td><td>SR Watson                                 </td><td>Sawai Mansingh Stadium                    </td><td>0                                         </td><td>Rajasthan Royals                          </td><td>Kings XI Punjab                           </td><td>Kings XI Punjab                           </td><td>bat                                       </td><td>Rajasthan Royals                          </td><td>wickets                                   </td><td>  6                                       </td><td>0                                         </td><td>0                                         </td><td>0                                         </td><td>0                                         </td><td>0                                         </td><td>Aleem Dar                                 </td><td>RB Tiffin                                 </td></tr>\n",
       "</tbody>\n",
       "</table>\n"
      ],
      "text/latex": [
       "\\begin{tabular}{r|llllllllllllllllllll}\n",
       " id & city & Season & player\\_of\\_match & venue & neutral\\_venue & team1 & team2 & toss\\_winner & toss\\_decision & winner & result & result\\_margin & playoff & team1.IPL\\_titles & team2.IPL\\_titles & team1\\_captain.change & team2\\_captain.change & umpire1 & umpire2\\\\\n",
       "\\hline\n",
       "\t 335982                                     & Bangalore                                  & 2008                                       & BB McCullum                                & M Chinnaswamy Stadium                      & 0                                          & Royal Challengers Bangalore                & Kolkata Knight Riders                      & Royal Challengers Bangalore                & field                                      & Kolkata Knight Riders                      & runs                                       & 140                                        & 0                                          & 0                                          & 0                                          & 0                                          & 0                                          & Asad Rauf                                  & RE Koertzen                               \\\\\n",
       "\t 335983                                     & Chandigarh                                 & 2008                                       & MEK Hussey                                 & Punjab Cricket Association Stadium, Mohali & 0                                          & Kings XI Punjab                            & Chennai Super Kings                        & Chennai Super Kings                        & bat                                        & Chennai Super Kings                        & runs                                       &  33                                        & 0                                          & 0                                          & 0                                          & 0                                          & 0                                          & MR Benson                                  & SL Shastri                                \\\\\n",
       "\t 335984                                     & Delhi                                      & 2008                                       & MF Maharoof                                & Feroz Shah Kotla                           & 0                                          & Delhi Daredevils                           & Rajasthan Royals                           & Rajasthan Royals                           & bat                                        & Delhi Daredevils                           & wickets                                    &   9                                        & 0                                          & 0                                          & 0                                          & 0                                          & 0                                          & Aleem Dar                                  & GA Pratapkumar                            \\\\\n",
       "\t 335985                                     & Mumbai                                     & 2008                                       & MV Boucher                                 & Wankhede Stadium                           & 0                                          & Mumbai Indians                             & Royal Challengers Bangalore                & Mumbai Indians                             & bat                                        & Royal Challengers Bangalore                & wickets                                    &   5                                        & 0                                          & 0                                          & 0                                          & 0                                          & 0                                          & SJ Davis                                   & DJ Harper                                 \\\\\n",
       "\t 335986                                     & Kolkata                                    & 2008                                       & DJ Hussey                                  & Eden Gardens                               & 0                                          & Kolkata Knight Riders                      & Deccan Chargers                            & Deccan Chargers                            & bat                                        & Kolkata Knight Riders                      & wickets                                    &   5                                        & 0                                          & 0                                          & 0                                          & 0                                          & 0                                          & BF Bowden                                  & K Hariharan                               \\\\\n",
       "\t 335987                                     & Jaipur                                     & 2008                                       & SR Watson                                  & Sawai Mansingh Stadium                     & 0                                          & Rajasthan Royals                           & Kings XI Punjab                            & Kings XI Punjab                            & bat                                        & Rajasthan Royals                           & wickets                                    &   6                                        & 0                                          & 0                                          & 0                                          & 0                                          & 0                                          & Aleem Dar                                  & RB Tiffin                                 \\\\\n",
       "\\end{tabular}\n"
      ],
      "text/markdown": [
       "\n",
       "| id | city | Season | player_of_match | venue | neutral_venue | team1 | team2 | toss_winner | toss_decision | winner | result | result_margin | playoff | team1.IPL_titles | team2.IPL_titles | team1_captain.change | team2_captain.change | umpire1 | umpire2 |\n",
       "|---|---|---|---|---|---|---|---|---|---|---|---|---|---|---|---|---|---|---|---|\n",
       "| 335982                                     | Bangalore                                  | 2008                                       | BB McCullum                                | M Chinnaswamy Stadium                      | 0                                          | Royal Challengers Bangalore                | Kolkata Knight Riders                      | Royal Challengers Bangalore                | field                                      | Kolkata Knight Riders                      | runs                                       | 140                                        | 0                                          | 0                                          | 0                                          | 0                                          | 0                                          | Asad Rauf                                  | RE Koertzen                                |\n",
       "| 335983                                     | Chandigarh                                 | 2008                                       | MEK Hussey                                 | Punjab Cricket Association Stadium, Mohali | 0                                          | Kings XI Punjab                            | Chennai Super Kings                        | Chennai Super Kings                        | bat                                        | Chennai Super Kings                        | runs                                       |  33                                        | 0                                          | 0                                          | 0                                          | 0                                          | 0                                          | MR Benson                                  | SL Shastri                                 |\n",
       "| 335984                                     | Delhi                                      | 2008                                       | MF Maharoof                                | Feroz Shah Kotla                           | 0                                          | Delhi Daredevils                           | Rajasthan Royals                           | Rajasthan Royals                           | bat                                        | Delhi Daredevils                           | wickets                                    |   9                                        | 0                                          | 0                                          | 0                                          | 0                                          | 0                                          | Aleem Dar                                  | GA Pratapkumar                             |\n",
       "| 335985                                     | Mumbai                                     | 2008                                       | MV Boucher                                 | Wankhede Stadium                           | 0                                          | Mumbai Indians                             | Royal Challengers Bangalore                | Mumbai Indians                             | bat                                        | Royal Challengers Bangalore                | wickets                                    |   5                                        | 0                                          | 0                                          | 0                                          | 0                                          | 0                                          | SJ Davis                                   | DJ Harper                                  |\n",
       "| 335986                                     | Kolkata                                    | 2008                                       | DJ Hussey                                  | Eden Gardens                               | 0                                          | Kolkata Knight Riders                      | Deccan Chargers                            | Deccan Chargers                            | bat                                        | Kolkata Knight Riders                      | wickets                                    |   5                                        | 0                                          | 0                                          | 0                                          | 0                                          | 0                                          | BF Bowden                                  | K Hariharan                                |\n",
       "| 335987                                     | Jaipur                                     | 2008                                       | SR Watson                                  | Sawai Mansingh Stadium                     | 0                                          | Rajasthan Royals                           | Kings XI Punjab                            | Kings XI Punjab                            | bat                                        | Rajasthan Royals                           | wickets                                    |   6                                        | 0                                          | 0                                          | 0                                          | 0                                          | 0                                          | Aleem Dar                                  | RB Tiffin                                  |\n",
       "\n"
      ],
      "text/plain": [
       "  id     city       Season player_of_match\n",
       "1 335982 Bangalore  2008   BB McCullum    \n",
       "2 335983 Chandigarh 2008   MEK Hussey     \n",
       "3 335984 Delhi      2008   MF Maharoof    \n",
       "4 335985 Mumbai     2008   MV Boucher     \n",
       "5 335986 Kolkata    2008   DJ Hussey      \n",
       "6 335987 Jaipur     2008   SR Watson      \n",
       "  venue                                      neutral_venue\n",
       "1 M Chinnaswamy Stadium                      0            \n",
       "2 Punjab Cricket Association Stadium, Mohali 0            \n",
       "3 Feroz Shah Kotla                           0            \n",
       "4 Wankhede Stadium                           0            \n",
       "5 Eden Gardens                               0            \n",
       "6 Sawai Mansingh Stadium                     0            \n",
       "  team1                       team2                      \n",
       "1 Royal Challengers Bangalore Kolkata Knight Riders      \n",
       "2 Kings XI Punjab             Chennai Super Kings        \n",
       "3 Delhi Daredevils            Rajasthan Royals           \n",
       "4 Mumbai Indians              Royal Challengers Bangalore\n",
       "5 Kolkata Knight Riders       Deccan Chargers            \n",
       "6 Rajasthan Royals            Kings XI Punjab            \n",
       "  toss_winner                 toss_decision winner                      result \n",
       "1 Royal Challengers Bangalore field         Kolkata Knight Riders       runs   \n",
       "2 Chennai Super Kings         bat           Chennai Super Kings         runs   \n",
       "3 Rajasthan Royals            bat           Delhi Daredevils            wickets\n",
       "4 Mumbai Indians              bat           Royal Challengers Bangalore wickets\n",
       "5 Deccan Chargers             bat           Kolkata Knight Riders       wickets\n",
       "6 Kings XI Punjab             bat           Rajasthan Royals            wickets\n",
       "  result_margin playoff team1.IPL_titles team2.IPL_titles team1_captain.change\n",
       "1 140           0       0                0                0                   \n",
       "2  33           0       0                0                0                   \n",
       "3   9           0       0                0                0                   \n",
       "4   5           0       0                0                0                   \n",
       "5   5           0       0                0                0                   \n",
       "6   6           0       0                0                0                   \n",
       "  team2_captain.change umpire1   umpire2       \n",
       "1 0                    Asad Rauf RE Koertzen   \n",
       "2 0                    MR Benson SL Shastri    \n",
       "3 0                    Aleem Dar GA Pratapkumar\n",
       "4 0                    SJ Davis  DJ Harper     \n",
       "5 0                    BF Bowden K Hariharan   \n",
       "6 0                    Aleem Dar RB Tiffin     "
      ]
     },
     "metadata": {},
     "output_type": "display_data"
    }
   ],
   "source": [
    "head(ipl)"
   ]
  },
  {
   "cell_type": "code",
   "execution_count": 6,
   "id": "162f0a04",
   "metadata": {},
   "outputs": [
    {
     "name": "stdout",
     "output_type": "stream",
     "text": [
      "'data.frame':\t812 obs. of  20 variables:\n",
      " $ id                  : int  335982 335983 335984 335985 335986 335987 335988 335989 335990 335991 ...\n",
      " $ city                : Factor w/ 33 levels \"\",\"Abu Dhabi\",..: 4 9 12 25 24 19 17 10 17 9 ...\n",
      " $ Season              : int  2008 2008 2008 2008 2008 2008 2008 2008 2008 2008 ...\n",
      " $ player_of_match     : Factor w/ 233 levels \"A Chandila\",\"A Kumble\",..: 31 126 127 146 49 213 225 133 230 94 ...\n",
      " $ venue               : Factor w/ 35 levels \"Barabati Stadium\",..: 15 23 9 35 8 27 24 16 24 23 ...\n",
      " $ neutral_venue       : int  0 0 0 0 0 0 0 0 0 0 ...\n",
      " $ team1               : Factor w/ 15 levels \"Chennai Super Kings\",..: 14 6 4 9 8 11 2 1 2 6 ...\n",
      " $ team2               : Factor w/ 15 levels \"Chennai Super Kings\",..: 8 1 11 14 2 6 4 9 11 9 ...\n",
      " $ toss_winner         : Factor w/ 15 levels \"Chennai Super Kings\",..: 14 1 11 9 2 6 2 9 11 9 ...\n",
      " $ toss_decision       : Factor w/ 2 levels \"bat\",\"field\": 2 1 1 1 1 1 1 2 2 2 ...\n",
      " $ winner              : Factor w/ 15 levels \"Chennai Super Kings\",..: 8 1 4 14 8 11 4 1 11 6 ...\n",
      " $ result              : Factor w/ 3 levels \"runs\",\"tie\",\"wickets\": 1 1 3 3 3 3 3 1 3 1 ...\n",
      " $ result_margin       : int  140 33 9 5 5 6 9 6 3 66 ...\n",
      " $ playoff             : int  0 0 0 0 0 0 0 0 0 0 ...\n",
      " $ team1.IPL_titles    : int  0 0 0 0 0 0 0 0 0 0 ...\n",
      " $ team2.IPL_titles    : int  0 0 0 0 0 0 0 0 0 0 ...\n",
      " $ team1_captain.change: int  0 0 0 0 0 0 0 0 0 0 ...\n",
      " $ team2_captain.change: int  0 0 0 0 0 0 0 0 0 0 ...\n",
      " $ umpire1             : Factor w/ 48 levels \"A Deshmukh\",\"A Nand Kishore\",..: 6 27 4 40 9 4 20 16 6 4 ...\n",
      " $ umpire2             : Factor w/ 47 levels \"A Deshmukh\",\"A Nand Kishore\",..: 30 41 14 13 20 29 5 14 24 5 ...\n"
     ]
    }
   ],
   "source": [
    "str(ipl)"
   ]
  },
  {
   "cell_type": "code",
   "execution_count": 7,
   "id": "1d8587a1",
   "metadata": {},
   "outputs": [
    {
     "data": {
      "text/plain": [
       "       id                 city         Season           player_of_match\n",
       " Min.   : 335982   Mumbai   :101   Min.   :2008   AB de Villiers: 23   \n",
       " 1st Qu.: 501227   Kolkata  : 77   1st Qu.:2011   CH Gayle      : 22   \n",
       " Median : 729296   Delhi    : 73   Median :2014   RG Sharma     : 18   \n",
       " Mean   : 755963   Hyderabad: 64   Mean   :2014   DA Warner     : 17   \n",
       " 3rd Qu.:1082626   Bangalore: 63   3rd Qu.:2017   MS Dhoni      : 17   \n",
       " Max.   :1237181   Chennai  : 57   Max.   :2020   SR Watson     : 16   \n",
       "                   (Other)  :377                  (Other)       :699   \n",
       "                                       venue     neutral_venue   \n",
       " Eden Gardens                             : 77   Min.   :0.0000  \n",
       " M Chinnaswamy Stadium                    : 77   1st Qu.:0.0000  \n",
       " Feroz Shah Kotla                         : 73   Median :0.0000  \n",
       " Wankhede Stadium                         : 73   Mean   :0.3042  \n",
       " Rajiv Gandhi International Stadium, Uppal: 64   3rd Qu.:1.0000  \n",
       " MA Chidambaram Stadium, Chepauk          : 57   Max.   :1.0000  \n",
       " (Other)                                  :391                   \n",
       "                         team1                             team2    \n",
       " Royal Challengers Bangalore:105   Mumbai Indians             :106  \n",
       " Mumbai Indians             : 97   Kings XI Punjab            : 98  \n",
       " Kolkata Knight Riders      : 95   Kolkata Knight Riders      : 97  \n",
       " Chennai Super Kings        : 94   Rajasthan Royals           : 89  \n",
       " Kings XI Punjab            : 92   Royal Challengers Bangalore: 87  \n",
       " Delhi Daredevils           : 82   Chennai Super Kings        : 84  \n",
       " (Other)                    :247   (Other)                    :251  \n",
       "                      toss_winner  toss_decision\n",
       " Mumbai Indians             :106   bat  :319    \n",
       " Kolkata Knight Riders      : 98   field:493    \n",
       " Chennai Super Kings        : 97                \n",
       " Royal Challengers Bangalore: 86                \n",
       " Kings XI Punjab            : 85                \n",
       " Rajasthan Royals           : 85                \n",
       " (Other)                    :255                \n",
       "                         winner        result    result_margin   \n",
       " Mumbai Indians             :120   runs   :364   Min.   :  1.00  \n",
       " Chennai Super Kings        :106   tie    : 13   1st Qu.:  6.00  \n",
       " Kolkata Knight Riders      : 99   wickets:435   Median :  8.00  \n",
       " Royal Challengers Bangalore: 91                 Mean   : 17.32  \n",
       " Kings XI Punjab            : 88                 3rd Qu.: 19.50  \n",
       " Rajasthan Royals           : 81                 Max.   :146.00  \n",
       " (Other)                    :227                 NA's   :13      \n",
       "    playoff        team1.IPL_titles team2.IPL_titles team1_captain.change\n",
       " Min.   :0.00000   Min.   :0.0000   Min.   :0.0000   Min.   :0.000       \n",
       " 1st Qu.:0.00000   1st Qu.:0.0000   1st Qu.:0.0000   1st Qu.:0.000       \n",
       " Median :0.00000   Median :0.0000   Median :0.0000   Median :0.000       \n",
       " Mean   :0.06158   Mean   :0.6749   Mean   :0.6897   Mean   :0.335       \n",
       " 3rd Qu.:0.00000   3rd Qu.:1.0000   3rd Qu.:1.0000   3rd Qu.:1.000       \n",
       " Max.   :1.00000   Max.   :4.0000   Max.   :4.0000   Max.   :1.000       \n",
       "                                                                         \n",
       " team2_captain.change            umpire1             umpire2   \n",
       " Min.   :0.0000       HDPK Dharmasena: 77   S Ravi       : 84  \n",
       " 1st Qu.:0.0000       AK Chaudhary   : 56   C Shamshuddin: 60  \n",
       " Median :0.0000       Asad Rauf      : 51   SJA Taufel   : 54  \n",
       " Mean   :0.3313       M Erasmus      : 40   CK Nandan    : 49  \n",
       " 3rd Qu.:1.0000       Aleem Dar      : 38   RJ Tucker    : 40  \n",
       " Max.   :1.0000       BF Bowden      : 37   Nitin Menon  : 37  \n",
       "                      (Other)        :513   (Other)      :488  "
      ]
     },
     "metadata": {},
     "output_type": "display_data"
    }
   ],
   "source": [
    "summary(ipl)"
   ]
  },
  {
   "cell_type": "code",
   "execution_count": 8,
   "id": "a42b4918",
   "metadata": {},
   "outputs": [
    {
     "data": {
      "text/html": [
       "TRUE"
      ],
      "text/latex": [
       "TRUE"
      ],
      "text/markdown": [
       "TRUE"
      ],
      "text/plain": [
       "[1] TRUE"
      ]
     },
     "metadata": {},
     "output_type": "display_data"
    }
   ],
   "source": [
    "any(is.na(ipl))"
   ]
  },
  {
   "cell_type": "code",
   "execution_count": 9,
   "id": "a52b1924",
   "metadata": {},
   "outputs": [
    {
     "data": {
      "text/html": [
       "13"
      ],
      "text/latex": [
       "13"
      ],
      "text/markdown": [
       "13"
      ],
      "text/plain": [
       "[1] 13"
      ]
     },
     "metadata": {},
     "output_type": "display_data"
    }
   ],
   "source": [
    "sum(is.na(ipl))"
   ]
  },
  {
   "cell_type": "markdown",
   "id": "0cf9bcbd",
   "metadata": {},
   "source": [
    "## Importing the Prerequisite Libraries"
   ]
  },
  {
   "cell_type": "code",
   "execution_count": 10,
   "id": "ab6ee170",
   "metadata": {},
   "outputs": [],
   "source": [
    "library(ggplot2)\n",
    "library(dplyr)"
   ]
  },
  {
   "cell_type": "code",
   "execution_count": 11,
   "id": "e9d0be32",
   "metadata": {},
   "outputs": [
    {
     "data": {
      "text/html": [
       "<table>\n",
       "<thead><tr><th scope=col>city</th><th scope=col>Season</th><th scope=col>venue</th><th scope=col>team1</th><th scope=col>team2</th><th scope=col>winner</th><th scope=col>result</th><th scope=col>result_margin</th></tr></thead>\n",
       "<tbody>\n",
       "\t<tr><td>Cape Town                                </td><td>2009                                     </td><td>Newlands                                 </td><td>Kolkata Knight Riders                    </td><td>Rajasthan Royals                         </td><td>Rajasthan Royals                         </td><td>tie                                      </td><td>NA                                       </td></tr>\n",
       "\t<tr><td>Chennai                                  </td><td>2010                                     </td><td>MA Chidambaram Stadium, Chepauk          </td><td>Chennai Super Kings                      </td><td>Kings XI Punjab                          </td><td>Kings XI Punjab                          </td><td>tie                                      </td><td>NA                                       </td></tr>\n",
       "\t<tr><td>Hyderabad                                </td><td>2013                                     </td><td>Rajiv Gandhi International Stadium, Uppal</td><td>Sunrisers Hyderabad                      </td><td>Royal Challengers Bangalore              </td><td>Sunrisers Hyderabad                      </td><td>tie                                      </td><td>NA                                       </td></tr>\n",
       "\t<tr><td>Bangalore                                </td><td>2013                                     </td><td>M Chinnaswamy Stadium                    </td><td>Royal Challengers Bangalore              </td><td>Delhi Daredevils                         </td><td>Royal Challengers Bangalore              </td><td>tie                                      </td><td>NA                                       </td></tr>\n",
       "\t<tr><td>Abu Dhabi                                </td><td>2014                                     </td><td>Sheikh Zayed Stadium                     </td><td>Kolkata Knight Riders                    </td><td>Rajasthan Royals                         </td><td>Rajasthan Royals                         </td><td>tie                                      </td><td>NA                                       </td></tr>\n",
       "\t<tr><td>Ahmedabad                                </td><td>2015                                     </td><td>Sardar Patel Stadium, Motera             </td><td>Rajasthan Royals                         </td><td>Kings XI Punjab                          </td><td>Kings XI Punjab                          </td><td>tie                                      </td><td>NA                                       </td></tr>\n",
       "\t<tr><td>Rajkot                                   </td><td>2017                                     </td><td>Saurashtra Cricket Association Stadium   </td><td>Gujarat Lions                            </td><td>Mumbai Indians                           </td><td>Mumbai Indians                           </td><td>tie                                      </td><td>NA                                       </td></tr>\n",
       "\t<tr><td>Delhi                                    </td><td>2019                                     </td><td>Feroz Shah Kotla                         </td><td>Delhi Capitals                           </td><td>Kolkata Knight Riders                    </td><td>Delhi Capitals                           </td><td>tie                                      </td><td>NA                                       </td></tr>\n",
       "\t<tr><td>Mumbai                                   </td><td>2019                                     </td><td>Wankhede Stadium                         </td><td>Mumbai Indians                           </td><td>Sunrisers Hyderabad                      </td><td>Mumbai Indians                           </td><td>tie                                      </td><td>NA                                       </td></tr>\n",
       "\t<tr><td>Dubai                                    </td><td>2020                                     </td><td>Dubai International Cricket Stadium      </td><td>Delhi Capitals                           </td><td>Kings XI Punjab                          </td><td>Delhi Capitals                           </td><td>tie                                      </td><td>NA                                       </td></tr>\n",
       "\t<tr><td>Abu Dhabi                                </td><td>2020                                     </td><td>Sheikh Zayed Stadium                     </td><td>Kolkata Knight Riders                    </td><td>Sunrisers Hyderabad                      </td><td>Kolkata Knight Riders                    </td><td>tie                                      </td><td>NA                                       </td></tr>\n",
       "\t<tr><td>Dubai                                    </td><td>2020                                     </td><td>Dubai International Cricket Stadium      </td><td>Mumbai Indians                           </td><td>Kings XI Punjab                          </td><td>Kings XI Punjab                          </td><td>tie                                      </td><td>NA                                       </td></tr>\n",
       "\t<tr><td>Dubai                                    </td><td>2020                                     </td><td>Dubai International Cricket Stadium      </td><td>Royal Challengers Bangalore              </td><td>Mumbai Indians                           </td><td>Royal Challengers Bangalore              </td><td>tie                                      </td><td>NA                                       </td></tr>\n",
       "</tbody>\n",
       "</table>\n"
      ],
      "text/latex": [
       "\\begin{tabular}{r|llllllll}\n",
       " city & Season & venue & team1 & team2 & winner & result & result\\_margin\\\\\n",
       "\\hline\n",
       "\t Cape Town                                 & 2009                                      & Newlands                                  & Kolkata Knight Riders                     & Rajasthan Royals                          & Rajasthan Royals                          & tie                                       & NA                                       \\\\\n",
       "\t Chennai                                   & 2010                                      & MA Chidambaram Stadium, Chepauk           & Chennai Super Kings                       & Kings XI Punjab                           & Kings XI Punjab                           & tie                                       & NA                                       \\\\\n",
       "\t Hyderabad                                 & 2013                                      & Rajiv Gandhi International Stadium, Uppal & Sunrisers Hyderabad                       & Royal Challengers Bangalore               & Sunrisers Hyderabad                       & tie                                       & NA                                       \\\\\n",
       "\t Bangalore                                 & 2013                                      & M Chinnaswamy Stadium                     & Royal Challengers Bangalore               & Delhi Daredevils                          & Royal Challengers Bangalore               & tie                                       & NA                                       \\\\\n",
       "\t Abu Dhabi                                 & 2014                                      & Sheikh Zayed Stadium                      & Kolkata Knight Riders                     & Rajasthan Royals                          & Rajasthan Royals                          & tie                                       & NA                                       \\\\\n",
       "\t Ahmedabad                                 & 2015                                      & Sardar Patel Stadium, Motera              & Rajasthan Royals                          & Kings XI Punjab                           & Kings XI Punjab                           & tie                                       & NA                                       \\\\\n",
       "\t Rajkot                                    & 2017                                      & Saurashtra Cricket Association Stadium    & Gujarat Lions                             & Mumbai Indians                            & Mumbai Indians                            & tie                                       & NA                                       \\\\\n",
       "\t Delhi                                     & 2019                                      & Feroz Shah Kotla                          & Delhi Capitals                            & Kolkata Knight Riders                     & Delhi Capitals                            & tie                                       & NA                                       \\\\\n",
       "\t Mumbai                                    & 2019                                      & Wankhede Stadium                          & Mumbai Indians                            & Sunrisers Hyderabad                       & Mumbai Indians                            & tie                                       & NA                                       \\\\\n",
       "\t Dubai                                     & 2020                                      & Dubai International Cricket Stadium       & Delhi Capitals                            & Kings XI Punjab                           & Delhi Capitals                            & tie                                       & NA                                       \\\\\n",
       "\t Abu Dhabi                                 & 2020                                      & Sheikh Zayed Stadium                      & Kolkata Knight Riders                     & Sunrisers Hyderabad                       & Kolkata Knight Riders                     & tie                                       & NA                                       \\\\\n",
       "\t Dubai                                     & 2020                                      & Dubai International Cricket Stadium       & Mumbai Indians                            & Kings XI Punjab                           & Kings XI Punjab                           & tie                                       & NA                                       \\\\\n",
       "\t Dubai                                     & 2020                                      & Dubai International Cricket Stadium       & Royal Challengers Bangalore               & Mumbai Indians                            & Royal Challengers Bangalore               & tie                                       & NA                                       \\\\\n",
       "\\end{tabular}\n"
      ],
      "text/markdown": [
       "\n",
       "| city | Season | venue | team1 | team2 | winner | result | result_margin |\n",
       "|---|---|---|---|---|---|---|---|\n",
       "| Cape Town                                 | 2009                                      | Newlands                                  | Kolkata Knight Riders                     | Rajasthan Royals                          | Rajasthan Royals                          | tie                                       | NA                                        |\n",
       "| Chennai                                   | 2010                                      | MA Chidambaram Stadium, Chepauk           | Chennai Super Kings                       | Kings XI Punjab                           | Kings XI Punjab                           | tie                                       | NA                                        |\n",
       "| Hyderabad                                 | 2013                                      | Rajiv Gandhi International Stadium, Uppal | Sunrisers Hyderabad                       | Royal Challengers Bangalore               | Sunrisers Hyderabad                       | tie                                       | NA                                        |\n",
       "| Bangalore                                 | 2013                                      | M Chinnaswamy Stadium                     | Royal Challengers Bangalore               | Delhi Daredevils                          | Royal Challengers Bangalore               | tie                                       | NA                                        |\n",
       "| Abu Dhabi                                 | 2014                                      | Sheikh Zayed Stadium                      | Kolkata Knight Riders                     | Rajasthan Royals                          | Rajasthan Royals                          | tie                                       | NA                                        |\n",
       "| Ahmedabad                                 | 2015                                      | Sardar Patel Stadium, Motera              | Rajasthan Royals                          | Kings XI Punjab                           | Kings XI Punjab                           | tie                                       | NA                                        |\n",
       "| Rajkot                                    | 2017                                      | Saurashtra Cricket Association Stadium    | Gujarat Lions                             | Mumbai Indians                            | Mumbai Indians                            | tie                                       | NA                                        |\n",
       "| Delhi                                     | 2019                                      | Feroz Shah Kotla                          | Delhi Capitals                            | Kolkata Knight Riders                     | Delhi Capitals                            | tie                                       | NA                                        |\n",
       "| Mumbai                                    | 2019                                      | Wankhede Stadium                          | Mumbai Indians                            | Sunrisers Hyderabad                       | Mumbai Indians                            | tie                                       | NA                                        |\n",
       "| Dubai                                     | 2020                                      | Dubai International Cricket Stadium       | Delhi Capitals                            | Kings XI Punjab                           | Delhi Capitals                            | tie                                       | NA                                        |\n",
       "| Abu Dhabi                                 | 2020                                      | Sheikh Zayed Stadium                      | Kolkata Knight Riders                     | Sunrisers Hyderabad                       | Kolkata Knight Riders                     | tie                                       | NA                                        |\n",
       "| Dubai                                     | 2020                                      | Dubai International Cricket Stadium       | Mumbai Indians                            | Kings XI Punjab                           | Kings XI Punjab                           | tie                                       | NA                                        |\n",
       "| Dubai                                     | 2020                                      | Dubai International Cricket Stadium       | Royal Challengers Bangalore               | Mumbai Indians                            | Royal Challengers Bangalore               | tie                                       | NA                                        |\n",
       "\n"
      ],
      "text/plain": [
       "   city      Season venue                                    \n",
       "1  Cape Town 2009   Newlands                                 \n",
       "2  Chennai   2010   MA Chidambaram Stadium, Chepauk          \n",
       "3  Hyderabad 2013   Rajiv Gandhi International Stadium, Uppal\n",
       "4  Bangalore 2013   M Chinnaswamy Stadium                    \n",
       "5  Abu Dhabi 2014   Sheikh Zayed Stadium                     \n",
       "6  Ahmedabad 2015   Sardar Patel Stadium, Motera             \n",
       "7  Rajkot    2017   Saurashtra Cricket Association Stadium   \n",
       "8  Delhi     2019   Feroz Shah Kotla                         \n",
       "9  Mumbai    2019   Wankhede Stadium                         \n",
       "10 Dubai     2020   Dubai International Cricket Stadium      \n",
       "11 Abu Dhabi 2020   Sheikh Zayed Stadium                     \n",
       "12 Dubai     2020   Dubai International Cricket Stadium      \n",
       "13 Dubai     2020   Dubai International Cricket Stadium      \n",
       "   team1                       team2                      \n",
       "1  Kolkata Knight Riders       Rajasthan Royals           \n",
       "2  Chennai Super Kings         Kings XI Punjab            \n",
       "3  Sunrisers Hyderabad         Royal Challengers Bangalore\n",
       "4  Royal Challengers Bangalore Delhi Daredevils           \n",
       "5  Kolkata Knight Riders       Rajasthan Royals           \n",
       "6  Rajasthan Royals            Kings XI Punjab            \n",
       "7  Gujarat Lions               Mumbai Indians             \n",
       "8  Delhi Capitals              Kolkata Knight Riders      \n",
       "9  Mumbai Indians              Sunrisers Hyderabad        \n",
       "10 Delhi Capitals              Kings XI Punjab            \n",
       "11 Kolkata Knight Riders       Sunrisers Hyderabad        \n",
       "12 Mumbai Indians              Kings XI Punjab            \n",
       "13 Royal Challengers Bangalore Mumbai Indians             \n",
       "   winner                      result result_margin\n",
       "1  Rajasthan Royals            tie    NA           \n",
       "2  Kings XI Punjab             tie    NA           \n",
       "3  Sunrisers Hyderabad         tie    NA           \n",
       "4  Royal Challengers Bangalore tie    NA           \n",
       "5  Rajasthan Royals            tie    NA           \n",
       "6  Kings XI Punjab             tie    NA           \n",
       "7  Mumbai Indians              tie    NA           \n",
       "8  Delhi Capitals              tie    NA           \n",
       "9  Mumbai Indians              tie    NA           \n",
       "10 Delhi Capitals              tie    NA           \n",
       "11 Kolkata Knight Riders       tie    NA           \n",
       "12 Kings XI Punjab             tie    NA           \n",
       "13 Royal Challengers Bangalore tie    NA           "
      ]
     },
     "metadata": {},
     "output_type": "display_data"
    }
   ],
   "source": [
    "ipl %>% filter(result == 'tie')  %>% select(city, Season, venue, team1, team2, winner, result, result_margin)\n"
   ]
  },
  {
   "cell_type": "markdown",
   "id": "50d645eb",
   "metadata": {},
   "source": [
    "### When the result of the match was a tie, the result margin_margin column is  the margin as a NA. Tecnically the margin should be zero since no the scores were equal.\n"
   ]
  },
  {
   "cell_type": "markdown",
   "id": "2d3f4877",
   "metadata": {},
   "source": [
    "## Converting NA values of result_margin column as zero\n"
   ]
  },
  {
   "cell_type": "code",
   "execution_count": 12,
   "id": "8416da34",
   "metadata": {},
   "outputs": [],
   "source": [
    "ipl$result_margin[is.na(ipl$result_margin)] = 0"
   ]
  },
  {
   "cell_type": "code",
   "execution_count": 13,
   "id": "defbe859",
   "metadata": {},
   "outputs": [
    {
     "data": {
      "text/html": [
       "<table>\n",
       "<thead><tr><th scope=col>city</th><th scope=col>Season</th><th scope=col>venue</th><th scope=col>winner</th><th scope=col>result</th><th scope=col>result_margin</th></tr></thead>\n",
       "<tbody>\n",
       "\t<tr><td>Cape Town                                </td><td>2009                                     </td><td>Newlands                                 </td><td>Rajasthan Royals                         </td><td>tie                                      </td><td>0                                        </td></tr>\n",
       "\t<tr><td>Chennai                                  </td><td>2010                                     </td><td>MA Chidambaram Stadium, Chepauk          </td><td>Kings XI Punjab                          </td><td>tie                                      </td><td>0                                        </td></tr>\n",
       "\t<tr><td>Hyderabad                                </td><td>2013                                     </td><td>Rajiv Gandhi International Stadium, Uppal</td><td>Sunrisers Hyderabad                      </td><td>tie                                      </td><td>0                                        </td></tr>\n",
       "\t<tr><td>Bangalore                                </td><td>2013                                     </td><td>M Chinnaswamy Stadium                    </td><td>Royal Challengers Bangalore              </td><td>tie                                      </td><td>0                                        </td></tr>\n",
       "\t<tr><td>Abu Dhabi                                </td><td>2014                                     </td><td>Sheikh Zayed Stadium                     </td><td>Rajasthan Royals                         </td><td>tie                                      </td><td>0                                        </td></tr>\n",
       "\t<tr><td>Ahmedabad                                </td><td>2015                                     </td><td>Sardar Patel Stadium, Motera             </td><td>Kings XI Punjab                          </td><td>tie                                      </td><td>0                                        </td></tr>\n",
       "\t<tr><td>Rajkot                                   </td><td>2017                                     </td><td>Saurashtra Cricket Association Stadium   </td><td>Mumbai Indians                           </td><td>tie                                      </td><td>0                                        </td></tr>\n",
       "\t<tr><td>Delhi                                    </td><td>2019                                     </td><td>Feroz Shah Kotla                         </td><td>Delhi Capitals                           </td><td>tie                                      </td><td>0                                        </td></tr>\n",
       "\t<tr><td>Mumbai                                   </td><td>2019                                     </td><td>Wankhede Stadium                         </td><td>Mumbai Indians                           </td><td>tie                                      </td><td>0                                        </td></tr>\n",
       "\t<tr><td>Dubai                                    </td><td>2020                                     </td><td>Dubai International Cricket Stadium      </td><td>Delhi Capitals                           </td><td>tie                                      </td><td>0                                        </td></tr>\n",
       "\t<tr><td>Abu Dhabi                                </td><td>2020                                     </td><td>Sheikh Zayed Stadium                     </td><td>Kolkata Knight Riders                    </td><td>tie                                      </td><td>0                                        </td></tr>\n",
       "\t<tr><td>Dubai                                    </td><td>2020                                     </td><td>Dubai International Cricket Stadium      </td><td>Kings XI Punjab                          </td><td>tie                                      </td><td>0                                        </td></tr>\n",
       "\t<tr><td>Dubai                                    </td><td>2020                                     </td><td>Dubai International Cricket Stadium      </td><td>Royal Challengers Bangalore              </td><td>tie                                      </td><td>0                                        </td></tr>\n",
       "</tbody>\n",
       "</table>\n"
      ],
      "text/latex": [
       "\\begin{tabular}{r|llllll}\n",
       " city & Season & venue & winner & result & result\\_margin\\\\\n",
       "\\hline\n",
       "\t Cape Town                                 & 2009                                      & Newlands                                  & Rajasthan Royals                          & tie                                       & 0                                        \\\\\n",
       "\t Chennai                                   & 2010                                      & MA Chidambaram Stadium, Chepauk           & Kings XI Punjab                           & tie                                       & 0                                        \\\\\n",
       "\t Hyderabad                                 & 2013                                      & Rajiv Gandhi International Stadium, Uppal & Sunrisers Hyderabad                       & tie                                       & 0                                        \\\\\n",
       "\t Bangalore                                 & 2013                                      & M Chinnaswamy Stadium                     & Royal Challengers Bangalore               & tie                                       & 0                                        \\\\\n",
       "\t Abu Dhabi                                 & 2014                                      & Sheikh Zayed Stadium                      & Rajasthan Royals                          & tie                                       & 0                                        \\\\\n",
       "\t Ahmedabad                                 & 2015                                      & Sardar Patel Stadium, Motera              & Kings XI Punjab                           & tie                                       & 0                                        \\\\\n",
       "\t Rajkot                                    & 2017                                      & Saurashtra Cricket Association Stadium    & Mumbai Indians                            & tie                                       & 0                                        \\\\\n",
       "\t Delhi                                     & 2019                                      & Feroz Shah Kotla                          & Delhi Capitals                            & tie                                       & 0                                        \\\\\n",
       "\t Mumbai                                    & 2019                                      & Wankhede Stadium                          & Mumbai Indians                            & tie                                       & 0                                        \\\\\n",
       "\t Dubai                                     & 2020                                      & Dubai International Cricket Stadium       & Delhi Capitals                            & tie                                       & 0                                        \\\\\n",
       "\t Abu Dhabi                                 & 2020                                      & Sheikh Zayed Stadium                      & Kolkata Knight Riders                     & tie                                       & 0                                        \\\\\n",
       "\t Dubai                                     & 2020                                      & Dubai International Cricket Stadium       & Kings XI Punjab                           & tie                                       & 0                                        \\\\\n",
       "\t Dubai                                     & 2020                                      & Dubai International Cricket Stadium       & Royal Challengers Bangalore               & tie                                       & 0                                        \\\\\n",
       "\\end{tabular}\n"
      ],
      "text/markdown": [
       "\n",
       "| city | Season | venue | winner | result | result_margin |\n",
       "|---|---|---|---|---|---|\n",
       "| Cape Town                                 | 2009                                      | Newlands                                  | Rajasthan Royals                          | tie                                       | 0                                         |\n",
       "| Chennai                                   | 2010                                      | MA Chidambaram Stadium, Chepauk           | Kings XI Punjab                           | tie                                       | 0                                         |\n",
       "| Hyderabad                                 | 2013                                      | Rajiv Gandhi International Stadium, Uppal | Sunrisers Hyderabad                       | tie                                       | 0                                         |\n",
       "| Bangalore                                 | 2013                                      | M Chinnaswamy Stadium                     | Royal Challengers Bangalore               | tie                                       | 0                                         |\n",
       "| Abu Dhabi                                 | 2014                                      | Sheikh Zayed Stadium                      | Rajasthan Royals                          | tie                                       | 0                                         |\n",
       "| Ahmedabad                                 | 2015                                      | Sardar Patel Stadium, Motera              | Kings XI Punjab                           | tie                                       | 0                                         |\n",
       "| Rajkot                                    | 2017                                      | Saurashtra Cricket Association Stadium    | Mumbai Indians                            | tie                                       | 0                                         |\n",
       "| Delhi                                     | 2019                                      | Feroz Shah Kotla                          | Delhi Capitals                            | tie                                       | 0                                         |\n",
       "| Mumbai                                    | 2019                                      | Wankhede Stadium                          | Mumbai Indians                            | tie                                       | 0                                         |\n",
       "| Dubai                                     | 2020                                      | Dubai International Cricket Stadium       | Delhi Capitals                            | tie                                       | 0                                         |\n",
       "| Abu Dhabi                                 | 2020                                      | Sheikh Zayed Stadium                      | Kolkata Knight Riders                     | tie                                       | 0                                         |\n",
       "| Dubai                                     | 2020                                      | Dubai International Cricket Stadium       | Kings XI Punjab                           | tie                                       | 0                                         |\n",
       "| Dubai                                     | 2020                                      | Dubai International Cricket Stadium       | Royal Challengers Bangalore               | tie                                       | 0                                         |\n",
       "\n"
      ],
      "text/plain": [
       "   city      Season venue                                    \n",
       "1  Cape Town 2009   Newlands                                 \n",
       "2  Chennai   2010   MA Chidambaram Stadium, Chepauk          \n",
       "3  Hyderabad 2013   Rajiv Gandhi International Stadium, Uppal\n",
       "4  Bangalore 2013   M Chinnaswamy Stadium                    \n",
       "5  Abu Dhabi 2014   Sheikh Zayed Stadium                     \n",
       "6  Ahmedabad 2015   Sardar Patel Stadium, Motera             \n",
       "7  Rajkot    2017   Saurashtra Cricket Association Stadium   \n",
       "8  Delhi     2019   Feroz Shah Kotla                         \n",
       "9  Mumbai    2019   Wankhede Stadium                         \n",
       "10 Dubai     2020   Dubai International Cricket Stadium      \n",
       "11 Abu Dhabi 2020   Sheikh Zayed Stadium                     \n",
       "12 Dubai     2020   Dubai International Cricket Stadium      \n",
       "13 Dubai     2020   Dubai International Cricket Stadium      \n",
       "   winner                      result result_margin\n",
       "1  Rajasthan Royals            tie    0            \n",
       "2  Kings XI Punjab             tie    0            \n",
       "3  Sunrisers Hyderabad         tie    0            \n",
       "4  Royal Challengers Bangalore tie    0            \n",
       "5  Rajasthan Royals            tie    0            \n",
       "6  Kings XI Punjab             tie    0            \n",
       "7  Mumbai Indians              tie    0            \n",
       "8  Delhi Capitals              tie    0            \n",
       "9  Mumbai Indians              tie    0            \n",
       "10 Delhi Capitals              tie    0            \n",
       "11 Kolkata Knight Riders       tie    0            \n",
       "12 Kings XI Punjab             tie    0            \n",
       "13 Royal Challengers Bangalore tie    0            "
      ]
     },
     "metadata": {},
     "output_type": "display_data"
    }
   ],
   "source": [
    "ipl %>% filter(result == 'tie')  %>% select(city, Season, venue, winner, result, result_margin)"
   ]
  },
  {
   "cell_type": "markdown",
   "id": "3dc83c01",
   "metadata": {},
   "source": [
    "## Data Preparation"
   ]
  },
  {
   "cell_type": "code",
   "execution_count": 14,
   "id": "0f1c546f",
   "metadata": {},
   "outputs": [
    {
     "data": {
      "text/plain": [
       "\n",
       "        Chennai Super Kings             Deccan Chargers \n",
       "                        106                          29 \n",
       "             Delhi Capitals            Delhi Daredevils \n",
       "                         19                          67 \n",
       "              Gujarat Lions             Kings XI Punjab \n",
       "                         13                          88 \n",
       "       Kochi Tuskers Kerala       Kolkata Knight Riders \n",
       "                          6                          99 \n",
       "             Mumbai Indians               Pune Warriors \n",
       "                        120                          12 \n",
       "           Rajasthan Royals      Rising Pune Supergiant \n",
       "                         81                          10 \n",
       "    Rising Pune Supergiants Royal Challengers Bangalore \n",
       "                          5                          91 \n",
       "        Sunrisers Hyderabad \n",
       "                         66 "
      ]
     },
     "metadata": {},
     "output_type": "display_data"
    }
   ],
   "source": [
    "table(ipl$winner)"
   ]
  },
  {
   "cell_type": "markdown",
   "id": "b37ffdc7",
   "metadata": {},
   "source": [
    "### Due to change in ownership Deccan Chargers was renamed to Sunrisers Hyderabad  but I am not considering those two as separate teams since both DC and SRH had same players in 2012 and 2013 only the name and jersey in changed. Same case with Delhi Capitals and Delhi Daredevils"
   ]
  },
  {
   "cell_type": "code",
   "execution_count": 15,
   "id": "1d5f1cf4",
   "metadata": {},
   "outputs": [],
   "source": [
    "ipl[ipl == 'Deccan Chargers'] = 'Sunrisers Hyderabad'\n",
    "\n",
    "ipl[ipl == 'Delhi Daredevils'] = 'Delhi Capitals'\n",
    "\n",
    "ipl[ipl == 'Rising Pune Supergiant'] = 'Rising Pune Supergiants'"
   ]
  },
  {
   "cell_type": "code",
   "execution_count": 16,
   "id": "8a3cb937",
   "metadata": {},
   "outputs": [
    {
     "data": {
      "text/plain": [
       "\n",
       "        Chennai Super Kings             Deccan Chargers \n",
       "                        106                           0 \n",
       "             Delhi Capitals            Delhi Daredevils \n",
       "                         86                           0 \n",
       "              Gujarat Lions             Kings XI Punjab \n",
       "                         13                          88 \n",
       "       Kochi Tuskers Kerala       Kolkata Knight Riders \n",
       "                          6                          99 \n",
       "             Mumbai Indians               Pune Warriors \n",
       "                        120                          12 \n",
       "           Rajasthan Royals      Rising Pune Supergiant \n",
       "                         81                           0 \n",
       "    Rising Pune Supergiants Royal Challengers Bangalore \n",
       "                         15                          91 \n",
       "        Sunrisers Hyderabad \n",
       "                         95 "
      ]
     },
     "metadata": {},
     "output_type": "display_data"
    }
   ],
   "source": [
    "table(ipl$winner)"
   ]
  },
  {
   "cell_type": "markdown",
   "id": "e90eb3f8",
   "metadata": {},
   "source": [
    "## Replacing Bengaluru with Bangalore"
   ]
  },
  {
   "cell_type": "code",
   "execution_count": 17,
   "id": "acf0881c",
   "metadata": {},
   "outputs": [
    {
     "data": {
      "text/plain": [
       "\n",
       "                    Abu Dhabi      Ahmedabad      Bangalore      Bengaluru \n",
       "             1             29             12             63             14 \n",
       "  Bloemfontein      Cape Town      Centurion     Chandigarh        Chennai \n",
       "             2              7             12             56             57 \n",
       "       Cuttack          Delhi     Dharamsala          Dubai         Durban \n",
       "             7             73              9             33             15 \n",
       "   East London      Hyderabad         Indore         Jaipur   Johannesburg \n",
       "             3             64              9             47              8 \n",
       "        Kanpur      Kimberley          Kochi        Kolkata         Mumbai \n",
       "             4              3              5             77            101 \n",
       "        Nagpur Port Elizabeth           Pune         Raipur         Rajkot \n",
       "             3              7             38              6             10 \n",
       "        Ranchi        Sharjah  Visakhapatnam \n",
       "             7             17             13 "
      ]
     },
     "metadata": {},
     "output_type": "display_data"
    }
   ],
   "source": [
    "table(ipl$city)"
   ]
  },
  {
   "cell_type": "code",
   "execution_count": 18,
   "id": "c1ca9ea0",
   "metadata": {},
   "outputs": [],
   "source": [
    "ipl[ipl == 'Bengaluru'] = 'Bangalore'\n"
   ]
  },
  {
   "cell_type": "code",
   "execution_count": 19,
   "id": "54449414",
   "metadata": {},
   "outputs": [
    {
     "data": {
      "text/plain": [
       "\n",
       "                    Abu Dhabi      Ahmedabad      Bangalore      Bengaluru \n",
       "             1             29             12             77              0 \n",
       "  Bloemfontein      Cape Town      Centurion     Chandigarh        Chennai \n",
       "             2              7             12             56             57 \n",
       "       Cuttack          Delhi     Dharamsala          Dubai         Durban \n",
       "             7             73              9             33             15 \n",
       "   East London      Hyderabad         Indore         Jaipur   Johannesburg \n",
       "             3             64              9             47              8 \n",
       "        Kanpur      Kimberley          Kochi        Kolkata         Mumbai \n",
       "             4              3              5             77            101 \n",
       "        Nagpur Port Elizabeth           Pune         Raipur         Rajkot \n",
       "             3              7             38              6             10 \n",
       "        Ranchi        Sharjah  Visakhapatnam \n",
       "             7             17             13 "
      ]
     },
     "metadata": {},
     "output_type": "display_data"
    }
   ],
   "source": [
    "table(ipl$city)"
   ]
  },
  {
   "cell_type": "markdown",
   "id": "125e968d",
   "metadata": {},
   "source": [
    "## Few years ago PCA Stadium, Mohali was renamed to PCA IS Bindra Stadium, Mohali and Subrata Roy Sahara Stadium to Maharashtra Cricket Association Stadium"
   ]
  },
  {
   "cell_type": "code",
   "execution_count": 20,
   "id": "920f66d6",
   "metadata": {},
   "outputs": [
    {
     "data": {
      "text/plain": [
       "\n",
       "                                    Barabati Stadium \n",
       "                                                   7 \n",
       "                                   Brabourne Stadium \n",
       "                                                  11 \n",
       "                                        Buffalo Park \n",
       "                                                   3 \n",
       "                               De Beers Diamond Oval \n",
       "                                                   3 \n",
       "                          Dr DY Patil Sports Academy \n",
       "                                                  17 \n",
       " Dr. Y.S. Rajasekhara Reddy ACA-VDCA Cricket Stadium \n",
       "                                                  13 \n",
       "                 Dubai International Cricket Stadium \n",
       "                                                  33 \n",
       "                                        Eden Gardens \n",
       "                                                  77 \n",
       "                                    Feroz Shah Kotla \n",
       "                                                  73 \n",
       "                                          Green Park \n",
       "                                                   4 \n",
       "        Himachal Pradesh Cricket Association Stadium \n",
       "                                                   9 \n",
       "                              Holkar Cricket Stadium \n",
       "                                                   9 \n",
       "                  JSCA International Stadium Complex \n",
       "                                                   7 \n",
       "                                           Kingsmead \n",
       "                                                  15 \n",
       "                               M Chinnaswamy Stadium \n",
       "                                                  77 \n",
       "                     MA Chidambaram Stadium, Chepauk \n",
       "                                                  57 \n",
       "             Maharashtra Cricket Association Stadium \n",
       "                                                  21 \n",
       "                                       Nehru Stadium \n",
       "                                                   5 \n",
       "                               New Wanderers Stadium \n",
       "                                                   8 \n",
       "                                            Newlands \n",
       "                                                   7 \n",
       "                                     OUTsurance Oval \n",
       "                                                   2 \n",
       "Punjab Cricket Association IS Bindra Stadium, Mohali \n",
       "                                                  21 \n",
       "          Punjab Cricket Association Stadium, Mohali \n",
       "                                                  35 \n",
       "           Rajiv Gandhi International Stadium, Uppal \n",
       "                                                  64 \n",
       "                        Sardar Patel Stadium, Motera \n",
       "                                                  12 \n",
       "              Saurashtra Cricket Association Stadium \n",
       "                                                  10 \n",
       "                              Sawai Mansingh Stadium \n",
       "                                                  47 \n",
       "    Shaheed Veer Narayan Singh International Stadium \n",
       "                                                   6 \n",
       "                             Sharjah Cricket Stadium \n",
       "                                                  18 \n",
       "                                Sheikh Zayed Stadium \n",
       "                                                  29 \n",
       "                                    St George's Park \n",
       "                                                   7 \n",
       "                          Subrata Roy Sahara Stadium \n",
       "                                                  17 \n",
       "                                     SuperSport Park \n",
       "                                                  12 \n",
       "        Vidarbha Cricket Association Stadium, Jamtha \n",
       "                                                   3 \n",
       "                                    Wankhede Stadium \n",
       "                                                  73 "
      ]
     },
     "metadata": {},
     "output_type": "display_data"
    }
   ],
   "source": [
    "table(ipl$venue)"
   ]
  },
  {
   "cell_type": "code",
   "execution_count": 21,
   "id": "3ef7ba99",
   "metadata": {},
   "outputs": [],
   "source": [
    "ipl[ipl == 'Punjab Cricket Association IS Bindra Stadium, Mohali'] = \n",
    "  'Punjab Cricket Association Stadium, Mohali'\n",
    "\n",
    "ipl[ipl == 'Subrata Roy Sahara Stadium'] = 'Maharashtra Cricket Association Stadium'"
   ]
  },
  {
   "cell_type": "code",
   "execution_count": 22,
   "id": "6a2ff55f",
   "metadata": {},
   "outputs": [
    {
     "data": {
      "text/plain": [
       "\n",
       "                                    Barabati Stadium \n",
       "                                                   7 \n",
       "                                   Brabourne Stadium \n",
       "                                                  11 \n",
       "                                        Buffalo Park \n",
       "                                                   3 \n",
       "                               De Beers Diamond Oval \n",
       "                                                   3 \n",
       "                          Dr DY Patil Sports Academy \n",
       "                                                  17 \n",
       " Dr. Y.S. Rajasekhara Reddy ACA-VDCA Cricket Stadium \n",
       "                                                  13 \n",
       "                 Dubai International Cricket Stadium \n",
       "                                                  33 \n",
       "                                        Eden Gardens \n",
       "                                                  77 \n",
       "                                    Feroz Shah Kotla \n",
       "                                                  73 \n",
       "                                          Green Park \n",
       "                                                   4 \n",
       "        Himachal Pradesh Cricket Association Stadium \n",
       "                                                   9 \n",
       "                              Holkar Cricket Stadium \n",
       "                                                   9 \n",
       "                  JSCA International Stadium Complex \n",
       "                                                   7 \n",
       "                                           Kingsmead \n",
       "                                                  15 \n",
       "                               M Chinnaswamy Stadium \n",
       "                                                  77 \n",
       "                     MA Chidambaram Stadium, Chepauk \n",
       "                                                  57 \n",
       "             Maharashtra Cricket Association Stadium \n",
       "                                                  38 \n",
       "                                       Nehru Stadium \n",
       "                                                   5 \n",
       "                               New Wanderers Stadium \n",
       "                                                   8 \n",
       "                                            Newlands \n",
       "                                                   7 \n",
       "                                     OUTsurance Oval \n",
       "                                                   2 \n",
       "Punjab Cricket Association IS Bindra Stadium, Mohali \n",
       "                                                   0 \n",
       "          Punjab Cricket Association Stadium, Mohali \n",
       "                                                  56 \n",
       "           Rajiv Gandhi International Stadium, Uppal \n",
       "                                                  64 \n",
       "                        Sardar Patel Stadium, Motera \n",
       "                                                  12 \n",
       "              Saurashtra Cricket Association Stadium \n",
       "                                                  10 \n",
       "                              Sawai Mansingh Stadium \n",
       "                                                  47 \n",
       "    Shaheed Veer Narayan Singh International Stadium \n",
       "                                                   6 \n",
       "                             Sharjah Cricket Stadium \n",
       "                                                  18 \n",
       "                                Sheikh Zayed Stadium \n",
       "                                                  29 \n",
       "                                    St George's Park \n",
       "                                                   7 \n",
       "                          Subrata Roy Sahara Stadium \n",
       "                                                   0 \n",
       "                                     SuperSport Park \n",
       "                                                  12 \n",
       "        Vidarbha Cricket Association Stadium, Jamtha \n",
       "                                                   3 \n",
       "                                    Wankhede Stadium \n",
       "                                                  73 "
      ]
     },
     "metadata": {},
     "output_type": "display_data"
    }
   ],
   "source": [
    "table(ipl$venue)  "
   ]
  },
  {
   "cell_type": "markdown",
   "id": "569cd3b4",
   "metadata": {},
   "source": [
    "## Exploratory Data Analysis"
   ]
  },
  {
   "cell_type": "markdown",
   "id": "4fbaeb0e",
   "metadata": {},
   "source": [
    "### Most Matches Won "
   ]
  },
  {
   "cell_type": "code",
   "execution_count": 23,
   "id": "dd54c933",
   "metadata": {},
   "outputs": [
    {
     "data": {
      "text/html": [
       "<table>\n",
       "<thead><tr><th scope=col>winner</th><th scope=col>Wins</th></tr></thead>\n",
       "<tbody>\n",
       "\t<tr><td>Mumbai Indians             </td><td>120                        </td></tr>\n",
       "\t<tr><td>Chennai Super Kings        </td><td>106                        </td></tr>\n",
       "\t<tr><td>Kolkata Knight Riders      </td><td> 99                        </td></tr>\n",
       "\t<tr><td>Sunrisers Hyderabad        </td><td> 95                        </td></tr>\n",
       "\t<tr><td>Royal Challengers Bangalore</td><td> 91                        </td></tr>\n",
       "\t<tr><td>Kings XI Punjab            </td><td> 88                        </td></tr>\n",
       "\t<tr><td>Delhi Capitals             </td><td> 86                        </td></tr>\n",
       "\t<tr><td>Rajasthan Royals           </td><td> 81                        </td></tr>\n",
       "\t<tr><td>Rising Pune Supergiants    </td><td> 15                        </td></tr>\n",
       "\t<tr><td>Gujarat Lions              </td><td> 13                        </td></tr>\n",
       "\t<tr><td>Pune Warriors              </td><td> 12                        </td></tr>\n",
       "\t<tr><td>Kochi Tuskers Kerala       </td><td>  6                        </td></tr>\n",
       "</tbody>\n",
       "</table>\n"
      ],
      "text/latex": [
       "\\begin{tabular}{r|ll}\n",
       " winner & Wins\\\\\n",
       "\\hline\n",
       "\t Mumbai Indians              & 120                        \\\\\n",
       "\t Chennai Super Kings         & 106                        \\\\\n",
       "\t Kolkata Knight Riders       &  99                        \\\\\n",
       "\t Sunrisers Hyderabad         &  95                        \\\\\n",
       "\t Royal Challengers Bangalore &  91                        \\\\\n",
       "\t Kings XI Punjab             &  88                        \\\\\n",
       "\t Delhi Capitals              &  86                        \\\\\n",
       "\t Rajasthan Royals            &  81                        \\\\\n",
       "\t Rising Pune Supergiants     &  15                        \\\\\n",
       "\t Gujarat Lions               &  13                        \\\\\n",
       "\t Pune Warriors               &  12                        \\\\\n",
       "\t Kochi Tuskers Kerala        &   6                        \\\\\n",
       "\\end{tabular}\n"
      ],
      "text/markdown": [
       "\n",
       "| winner | Wins |\n",
       "|---|---|\n",
       "| Mumbai Indians              | 120                         |\n",
       "| Chennai Super Kings         | 106                         |\n",
       "| Kolkata Knight Riders       |  99                         |\n",
       "| Sunrisers Hyderabad         |  95                         |\n",
       "| Royal Challengers Bangalore |  91                         |\n",
       "| Kings XI Punjab             |  88                         |\n",
       "| Delhi Capitals              |  86                         |\n",
       "| Rajasthan Royals            |  81                         |\n",
       "| Rising Pune Supergiants     |  15                         |\n",
       "| Gujarat Lions               |  13                         |\n",
       "| Pune Warriors               |  12                         |\n",
       "| Kochi Tuskers Kerala        |   6                         |\n",
       "\n"
      ],
      "text/plain": [
       "   winner                      Wins\n",
       "1  Mumbai Indians              120 \n",
       "2  Chennai Super Kings         106 \n",
       "3  Kolkata Knight Riders        99 \n",
       "4  Sunrisers Hyderabad          95 \n",
       "5  Royal Challengers Bangalore  91 \n",
       "6  Kings XI Punjab              88 \n",
       "7  Delhi Capitals               86 \n",
       "8  Rajasthan Royals             81 \n",
       "9  Rising Pune Supergiants      15 \n",
       "10 Gujarat Lions                13 \n",
       "11 Pune Warriors                12 \n",
       "12 Kochi Tuskers Kerala          6 "
      ]
     },
     "metadata": {},
     "output_type": "display_data"
    },
    {
     "data": {
      "text/html": [
       "<table>\n",
       "<thead><tr><th scope=col>winner</th><th scope=col>Wins</th></tr></thead>\n",
       "<tbody>\n",
       "\t<tr><td>Mumbai Indians             </td><td>120                        </td></tr>\n",
       "\t<tr><td>Chennai Super Kings        </td><td>106                        </td></tr>\n",
       "\t<tr><td>Kolkata Knight Riders      </td><td> 99                        </td></tr>\n",
       "\t<tr><td>Sunrisers Hyderabad        </td><td> 95                        </td></tr>\n",
       "\t<tr><td>Royal Challengers Bangalore</td><td> 91                        </td></tr>\n",
       "\t<tr><td>Kings XI Punjab            </td><td> 88                        </td></tr>\n",
       "\t<tr><td>Delhi Capitals             </td><td> 86                        </td></tr>\n",
       "\t<tr><td>Rajasthan Royals           </td><td> 81                        </td></tr>\n",
       "</tbody>\n",
       "</table>\n"
      ],
      "text/latex": [
       "\\begin{tabular}{r|ll}\n",
       " winner & Wins\\\\\n",
       "\\hline\n",
       "\t Mumbai Indians              & 120                        \\\\\n",
       "\t Chennai Super Kings         & 106                        \\\\\n",
       "\t Kolkata Knight Riders       &  99                        \\\\\n",
       "\t Sunrisers Hyderabad         &  95                        \\\\\n",
       "\t Royal Challengers Bangalore &  91                        \\\\\n",
       "\t Kings XI Punjab             &  88                        \\\\\n",
       "\t Delhi Capitals              &  86                        \\\\\n",
       "\t Rajasthan Royals            &  81                        \\\\\n",
       "\\end{tabular}\n"
      ],
      "text/markdown": [
       "\n",
       "| winner | Wins |\n",
       "|---|---|\n",
       "| Mumbai Indians              | 120                         |\n",
       "| Chennai Super Kings         | 106                         |\n",
       "| Kolkata Knight Riders       |  99                         |\n",
       "| Sunrisers Hyderabad         |  95                         |\n",
       "| Royal Challengers Bangalore |  91                         |\n",
       "| Kings XI Punjab             |  88                         |\n",
       "| Delhi Capitals              |  86                         |\n",
       "| Rajasthan Royals            |  81                         |\n",
       "\n"
      ],
      "text/plain": [
       "  winner                      Wins\n",
       "1 Mumbai Indians              120 \n",
       "2 Chennai Super Kings         106 \n",
       "3 Kolkata Knight Riders        99 \n",
       "4 Sunrisers Hyderabad          95 \n",
       "5 Royal Challengers Bangalore  91 \n",
       "6 Kings XI Punjab              88 \n",
       "7 Delhi Capitals               86 \n",
       "8 Rajasthan Royals             81 "
      ]
     },
     "metadata": {},
     "output_type": "display_data"
    }
   ],
   "source": [
    "wins.most = ipl %>% group_by(winner) %>% \n",
    "  summarise(Wins = n()) %>% arrange(desc(Wins))\n",
    "\n",
    "wins.most\n",
    "\n",
    "wins.most = wins.most[1:8,  ]  \n",
    "\n",
    "wins.most"
   ]
  },
  {
   "cell_type": "code",
   "execution_count": 35,
   "id": "d9e58f85",
   "metadata": {},
   "outputs": [
    {
     "data": {
      "image/png": "[encoded data removed]",
      "text/plain": [
       "plot without title"
      ]
     },
     "metadata": {},
     "output_type": "display_data"
    }
   ],
   "source": [
    "ggplot(wins.most, aes(reorder(winner, Wins),Wins, fill = winner ))+ theme_classic()+\n",
    "  geom_bar(stat = 'identity') + geom_text(aes(label = Wins, hjust = -0.01))+\n",
    "  labs(title = 'Most no. of Matches Won by Each Team', x = 'Teams',\n",
    "       y = 'Number of wins', tag = 'A1')+\n",
    "  theme(legend.position = 'none')+ coord_flip() +\n",
    "  scale_fill_manual(values = c('Mumbai Indians' = 'steelblue',\n",
    "                   'Chennai Super Kings' = 'gold', 'Kolkata Knight Riders' = 'maroon4',\n",
    "                               'Sunrisers Hyderabad' = 'darkorange2', \n",
    "               'Royal Challengers Bangalore'= 'brown2', 'Kings XI Punjab'='firebrick1',\n",
    "                    'Delhi Capitals' = 'dodgerblue3', 'Rajasthan Royals' = 'maroon1'))\n",
    "  "
   ]
  },
  {
   "cell_type": "markdown",
   "id": "68097b46",
   "metadata": {},
   "source": [
    "### Most Wins After Batting First"
   ]
  },
  {
   "cell_type": "code",
   "execution_count": 28,
   "id": "520d18b2",
   "metadata": {},
   "outputs": [
    {
     "data": {
      "text/html": [
       "<table>\n",
       "<thead><tr><th scope=col>winner</th><th scope=col>Wins</th></tr></thead>\n",
       "<tbody>\n",
       "\t<tr><td>Chennai Super Kings        </td><td>53                         </td></tr>\n",
       "\t<tr><td>Delhi Capitals             </td><td>34                         </td></tr>\n",
       "\t<tr><td>Kings XI Punjab            </td><td>40                         </td></tr>\n",
       "\t<tr><td>Kolkata Knight Riders      </td><td>41                         </td></tr>\n",
       "\t<tr><td>Mumbai Indians             </td><td>62                         </td></tr>\n",
       "\t<tr><td>Rajasthan Royals           </td><td>28                         </td></tr>\n",
       "\t<tr><td>Royal Challengers Bangalore</td><td>38                         </td></tr>\n",
       "\t<tr><td>Sunrisers Hyderabad        </td><td>52                         </td></tr>\n",
       "</tbody>\n",
       "</table>\n"
      ],
      "text/latex": [
       "\\begin{tabular}{r|ll}\n",
       " winner & Wins\\\\\n",
       "\\hline\n",
       "\t Chennai Super Kings         & 53                         \\\\\n",
       "\t Delhi Capitals              & 34                         \\\\\n",
       "\t Kings XI Punjab             & 40                         \\\\\n",
       "\t Kolkata Knight Riders       & 41                         \\\\\n",
       "\t Mumbai Indians              & 62                         \\\\\n",
       "\t Rajasthan Royals            & 28                         \\\\\n",
       "\t Royal Challengers Bangalore & 38                         \\\\\n",
       "\t Sunrisers Hyderabad         & 52                         \\\\\n",
       "\\end{tabular}\n"
      ],
      "text/markdown": [
       "\n",
       "| winner | Wins |\n",
       "|---|---|\n",
       "| Chennai Super Kings         | 53                          |\n",
       "| Delhi Capitals              | 34                          |\n",
       "| Kings XI Punjab             | 40                          |\n",
       "| Kolkata Knight Riders       | 41                          |\n",
       "| Mumbai Indians              | 62                          |\n",
       "| Rajasthan Royals            | 28                          |\n",
       "| Royal Challengers Bangalore | 38                          |\n",
       "| Sunrisers Hyderabad         | 52                          |\n",
       "\n"
      ],
      "text/plain": [
       "  winner                      Wins\n",
       "1 Chennai Super Kings         53  \n",
       "2 Delhi Capitals              34  \n",
       "3 Kings XI Punjab             40  \n",
       "4 Kolkata Knight Riders       41  \n",
       "5 Mumbai Indians              62  \n",
       "6 Rajasthan Royals            28  \n",
       "7 Royal Challengers Bangalore 38  \n",
       "8 Sunrisers Hyderabad         52  "
      ]
     },
     "metadata": {},
     "output_type": "display_data"
    }
   ],
   "source": [
    "bat.first.wins = ipl %>% group_by(winner) %>% \n",
    "  filter(result == 'runs') %>% \n",
    "  summarise(Wins = n())\n",
    "\n",
    "bat.first.wins = bat.first.wins[-c(3,5,8,10), ]\n",
    "\n",
    "bat.first.wins"
   ]
  },
  {
   "cell_type": "code",
   "execution_count": 36,
   "id": "6156b9a3",
   "metadata": {},
   "outputs": [
    {
     "data": {
      "image/png": "[encoded data removed]",
      "text/plain": [
       "plot without title"
      ]
     },
     "metadata": {},
     "output_type": "display_data"
    }
   ],
   "source": [
    "ggplot(bat.first.wins, aes( reorder(winner, Wins), Wins, fill = winner)) +\n",
    "  theme_classic()+\n",
    "  geom_bar(stat = 'identity')+ geom_text(aes(label = Wins, hjust = -0.25))+\n",
    "  labs(title = 'Teams who batted first and won the most match',x = 'Teams', y = 'Wins',\n",
    "        tag = 'A2') + coord_flip()+\n",
    "  theme(legend.position = 'none')+\n",
    "  scale_fill_manual(values = c('Mumbai Indians' = 'steelblue',\n",
    "                               'Chennai Super Kings' = 'gold', 'Kolkata Knight Riders' = 'maroon4',\n",
    "                               'Sunrisers Hyderabad' = 'darkorange2', \n",
    "                               'Royal Challengers Bangalore'= 'brown2', 'Kings XI Punjab'='firebrick1',\n",
    "                               'Delhi Capitals' = 'dodgerblue3', 'Rajasthan Royals' = 'maroon1'))\n"
   ]
  },
  {
   "cell_type": "markdown",
   "id": "443db81f",
   "metadata": {},
   "source": [
    "### Most Wins Chasing the Target"
   ]
  },
  {
   "cell_type": "code",
   "execution_count": 31,
   "id": "eb326265",
   "metadata": {},
   "outputs": [
    {
     "data": {
      "text/html": [
       "<table>\n",
       "<thead><tr><th scope=col>winner</th><th scope=col>Wins</th></tr></thead>\n",
       "<tbody>\n",
       "\t<tr><td>Chennai Super Kings        </td><td>53                         </td></tr>\n",
       "\t<tr><td>Delhi Capitals             </td><td>50                         </td></tr>\n",
       "\t<tr><td>Kings XI Punjab            </td><td>45                         </td></tr>\n",
       "\t<tr><td>Kolkata Knight Riders      </td><td>57                         </td></tr>\n",
       "\t<tr><td>Mumbai Indians             </td><td>56                         </td></tr>\n",
       "\t<tr><td>Rajasthan Royals           </td><td>51                         </td></tr>\n",
       "\t<tr><td>Royal Challengers Bangalore</td><td>51                         </td></tr>\n",
       "\t<tr><td>Sunrisers Hyderabad        </td><td>42                         </td></tr>\n",
       "</tbody>\n",
       "</table>\n"
      ],
      "text/latex": [
       "\\begin{tabular}{r|ll}\n",
       " winner & Wins\\\\\n",
       "\\hline\n",
       "\t Chennai Super Kings         & 53                         \\\\\n",
       "\t Delhi Capitals              & 50                         \\\\\n",
       "\t Kings XI Punjab             & 45                         \\\\\n",
       "\t Kolkata Knight Riders       & 57                         \\\\\n",
       "\t Mumbai Indians              & 56                         \\\\\n",
       "\t Rajasthan Royals            & 51                         \\\\\n",
       "\t Royal Challengers Bangalore & 51                         \\\\\n",
       "\t Sunrisers Hyderabad         & 42                         \\\\\n",
       "\\end{tabular}\n"
      ],
      "text/markdown": [
       "\n",
       "| winner | Wins |\n",
       "|---|---|\n",
       "| Chennai Super Kings         | 53                          |\n",
       "| Delhi Capitals              | 50                          |\n",
       "| Kings XI Punjab             | 45                          |\n",
       "| Kolkata Knight Riders       | 57                          |\n",
       "| Mumbai Indians              | 56                          |\n",
       "| Rajasthan Royals            | 51                          |\n",
       "| Royal Challengers Bangalore | 51                          |\n",
       "| Sunrisers Hyderabad         | 42                          |\n",
       "\n"
      ],
      "text/plain": [
       "  winner                      Wins\n",
       "1 Chennai Super Kings         53  \n",
       "2 Delhi Capitals              50  \n",
       "3 Kings XI Punjab             45  \n",
       "4 Kolkata Knight Riders       57  \n",
       "5 Mumbai Indians              56  \n",
       "6 Rajasthan Royals            51  \n",
       "7 Royal Challengers Bangalore 51  \n",
       "8 Sunrisers Hyderabad         42  "
      ]
     },
     "metadata": {},
     "output_type": "display_data"
    }
   ],
   "source": [
    "bat.second.wins = ipl %>% group_by(winner) %>% \n",
    "  filter(result == 'wickets') %>% \n",
    "  summarise(Wins = n())\n",
    "\n",
    "bat.second.wins = bat.second.wins[ -c(3,5,8,10), ]\n",
    "\n",
    "bat.second.wins"
   ]
  },
  {
   "cell_type": "code",
   "execution_count": 37,
   "id": "84484ce6",
   "metadata": {},
   "outputs": [
    {
     "data": {
      "image/png": "[encoded data removed]",
      "text/plain": [
       "plot without title"
      ]
     },
     "metadata": {},
     "output_type": "display_data"
    }
   ],
   "source": [
    "ggplot(bat.second.wins, aes(reorder(winner, Wins), Wins, fill = winner)) + \n",
    "  theme_classic()+ theme(legend.position = 'none')+\n",
    "  geom_bar(stat = 'identity')+ geom_text(aes(label = Wins, hjust = -0.15))+\n",
    "  labs(title = 'Most Wins Chasing the Target', x = 'Teams', y = 'Wins', tag = 'A3') + coord_flip()+\n",
    "  scale_fill_manual(values = c('Mumbai Indians' = 'steelblue',\n",
    "                               'Chennai Super Kings' = 'gold', 'Kolkata Knight Riders' = 'maroon4',\n",
    "                               'Sunrisers Hyderabad' = 'darkorange2', \n",
    "                               'Royal Challengers Bangalore'= 'brown2', 'Kings XI Punjab'='firebrick1',\n",
    "                               'Delhi Capitals' = 'dodgerblue4', 'Rajasthan Royals' = 'maroon1'))"
   ]
  },
  {
   "cell_type": "markdown",
   "id": "e7e8d952",
   "metadata": {},
   "source": [
    "### Cities which hosted maximum matches"
   ]
  },
  {
   "cell_type": "code",
   "execution_count": 34,
   "id": "15b0728d",
   "metadata": {},
   "outputs": [
    {
     "data": {
      "text/html": [
       "<table>\n",
       "<thead><tr><th scope=col>city</th><th scope=col>Matches</th></tr></thead>\n",
       "<tbody>\n",
       "\t<tr><td>Mumbai    </td><td>101       </td></tr>\n",
       "\t<tr><td>Bangalore </td><td> 77       </td></tr>\n",
       "\t<tr><td>Kolkata   </td><td> 77       </td></tr>\n",
       "\t<tr><td>Delhi     </td><td> 73       </td></tr>\n",
       "\t<tr><td>Hyderabad </td><td> 64       </td></tr>\n",
       "\t<tr><td>Chennai   </td><td> 57       </td></tr>\n",
       "\t<tr><td>Chandigarh</td><td> 56       </td></tr>\n",
       "\t<tr><td>Jaipur    </td><td> 47       </td></tr>\n",
       "\t<tr><td>Pune      </td><td> 38       </td></tr>\n",
       "\t<tr><td>Dubai     </td><td> 33       </td></tr>\n",
       "</tbody>\n",
       "</table>\n"
      ],
      "text/latex": [
       "\\begin{tabular}{r|ll}\n",
       " city & Matches\\\\\n",
       "\\hline\n",
       "\t Mumbai     & 101       \\\\\n",
       "\t Bangalore  &  77       \\\\\n",
       "\t Kolkata    &  77       \\\\\n",
       "\t Delhi      &  73       \\\\\n",
       "\t Hyderabad  &  64       \\\\\n",
       "\t Chennai    &  57       \\\\\n",
       "\t Chandigarh &  56       \\\\\n",
       "\t Jaipur     &  47       \\\\\n",
       "\t Pune       &  38       \\\\\n",
       "\t Dubai      &  33       \\\\\n",
       "\\end{tabular}\n"
      ],
      "text/markdown": [
       "\n",
       "| city | Matches |\n",
       "|---|---|\n",
       "| Mumbai     | 101        |\n",
       "| Bangalore  |  77        |\n",
       "| Kolkata    |  77        |\n",
       "| Delhi      |  73        |\n",
       "| Hyderabad  |  64        |\n",
       "| Chennai    |  57        |\n",
       "| Chandigarh |  56        |\n",
       "| Jaipur     |  47        |\n",
       "| Pune       |  38        |\n",
       "| Dubai      |  33        |\n",
       "\n"
      ],
      "text/plain": [
       "   city       Matches\n",
       "1  Mumbai     101    \n",
       "2  Bangalore   77    \n",
       "3  Kolkata     77    \n",
       "4  Delhi       73    \n",
       "5  Hyderabad   64    \n",
       "6  Chennai     57    \n",
       "7  Chandigarh  56    \n",
       "8  Jaipur      47    \n",
       "9  Pune        38    \n",
       "10 Dubai       33    "
      ]
     },
     "metadata": {},
     "output_type": "display_data"
    }
   ],
   "source": [
    "top.city =  ipl %>% group_by(city) %>% \n",
    "  summarise(Matches = n()) %>% arrange(desc(Matches))\n",
    "\n",
    "top.city = top.city[1:10, ]\n",
    "\n",
    "top.city"
   ]
  },
  {
   "cell_type": "code",
   "execution_count": 38,
   "id": "7aa2a3ee",
   "metadata": {},
   "outputs": [
    {
     "data": {
      "image/png": "[encoded data removed]",
      "text/plain": [
       "plot without title"
      ]
     },
     "metadata": {},
     "output_type": "display_data"
    }
   ],
   "source": [
    "ggplot(top.city, aes(reorder(city, -Matches), Matches)) + theme_classic()+\n",
    "  geom_bar(stat = 'identity', fill = 'darkslategray4', col = 'black')+ \n",
    "  theme(legend.position = 'none') +\n",
    "  geom_text(aes(label = Matches, vjust = -0.5))+\n",
    "  labs(title = 'Number of Matches Hosted in Different Cities',\n",
    "       x = 'Name of the City', tag = 'A4')"
   ]
  },
  {
   "cell_type": "markdown",
   "id": "e47bbb2c",
   "metadata": {},
   "source": [
    "### Stadiums that hosted maximum matches"
   ]
  },
  {
   "cell_type": "code",
   "execution_count": 39,
   "id": "0d5393d2",
   "metadata": {},
   "outputs": [
    {
     "data": {
      "text/html": [
       "<table>\n",
       "<thead><tr><th scope=col>venue</th><th scope=col>Matches.played</th></tr></thead>\n",
       "<tbody>\n",
       "\t<tr><td>Eden Gardens                              </td><td>77                                        </td></tr>\n",
       "\t<tr><td>M Chinnaswamy Stadium                     </td><td>77                                        </td></tr>\n",
       "\t<tr><td>Feroz Shah Kotla                          </td><td>73                                        </td></tr>\n",
       "\t<tr><td>Wankhede Stadium                          </td><td>73                                        </td></tr>\n",
       "\t<tr><td>Rajiv Gandhi International Stadium, Uppal </td><td>64                                        </td></tr>\n",
       "\t<tr><td>MA Chidambaram Stadium, Chepauk           </td><td>57                                        </td></tr>\n",
       "\t<tr><td>Punjab Cricket Association Stadium, Mohali</td><td>56                                        </td></tr>\n",
       "\t<tr><td>Sawai Mansingh Stadium                    </td><td>47                                        </td></tr>\n",
       "\t<tr><td>Maharashtra Cricket Association Stadium   </td><td>38                                        </td></tr>\n",
       "\t<tr><td>Dubai International Cricket Stadium       </td><td>33                                        </td></tr>\n",
       "</tbody>\n",
       "</table>\n"
      ],
      "text/latex": [
       "\\begin{tabular}{r|ll}\n",
       " venue & Matches.played\\\\\n",
       "\\hline\n",
       "\t Eden Gardens                               & 77                                        \\\\\n",
       "\t M Chinnaswamy Stadium                      & 77                                        \\\\\n",
       "\t Feroz Shah Kotla                           & 73                                        \\\\\n",
       "\t Wankhede Stadium                           & 73                                        \\\\\n",
       "\t Rajiv Gandhi International Stadium, Uppal  & 64                                        \\\\\n",
       "\t MA Chidambaram Stadium, Chepauk            & 57                                        \\\\\n",
       "\t Punjab Cricket Association Stadium, Mohali & 56                                        \\\\\n",
       "\t Sawai Mansingh Stadium                     & 47                                        \\\\\n",
       "\t Maharashtra Cricket Association Stadium    & 38                                        \\\\\n",
       "\t Dubai International Cricket Stadium        & 33                                        \\\\\n",
       "\\end{tabular}\n"
      ],
      "text/markdown": [
       "\n",
       "| venue | Matches.played |\n",
       "|---|---|\n",
       "| Eden Gardens                               | 77                                         |\n",
       "| M Chinnaswamy Stadium                      | 77                                         |\n",
       "| Feroz Shah Kotla                           | 73                                         |\n",
       "| Wankhede Stadium                           | 73                                         |\n",
       "| Rajiv Gandhi International Stadium, Uppal  | 64                                         |\n",
       "| MA Chidambaram Stadium, Chepauk            | 57                                         |\n",
       "| Punjab Cricket Association Stadium, Mohali | 56                                         |\n",
       "| Sawai Mansingh Stadium                     | 47                                         |\n",
       "| Maharashtra Cricket Association Stadium    | 38                                         |\n",
       "| Dubai International Cricket Stadium        | 33                                         |\n",
       "\n"
      ],
      "text/plain": [
       "   venue                                      Matches.played\n",
       "1  Eden Gardens                               77            \n",
       "2  M Chinnaswamy Stadium                      77            \n",
       "3  Feroz Shah Kotla                           73            \n",
       "4  Wankhede Stadium                           73            \n",
       "5  Rajiv Gandhi International Stadium, Uppal  64            \n",
       "6  MA Chidambaram Stadium, Chepauk            57            \n",
       "7  Punjab Cricket Association Stadium, Mohali 56            \n",
       "8  Sawai Mansingh Stadium                     47            \n",
       "9  Maharashtra Cricket Association Stadium    38            \n",
       "10 Dubai International Cricket Stadium        33            "
      ]
     },
     "metadata": {},
     "output_type": "display_data"
    }
   ],
   "source": [
    "top.stadiums = ipl %>% group_by(venue) %>% \n",
    "  summarise(Matches.played = n()) %>% arrange(desc(Matches.played))\n",
    "\n",
    "top.stadiums = top.stadiums[1:10, ]\n",
    "\n",
    "top.stadiums"
   ]
  },
  {
   "cell_type": "code",
   "execution_count": 40,
   "id": "8be473d7",
   "metadata": {},
   "outputs": [
    {
     "data": {
      "image/png": "[encoded data removed]",
      "text/plain": [
       "plot without title"
      ]
     },
     "metadata": {},
     "output_type": "display_data"
    }
   ],
   "source": [
    "ggplot(top.stadiums, aes(reorder(venue, Matches.played),Matches.played)) + \n",
    "  theme_classic()+\n",
    "  geom_bar(stat = 'identity', fill = 'darkslategray4', col = 'black') +\n",
    "  coord_flip() + theme(legend.position = 'none')+\n",
    "  geom_text(aes(label = Matches.played, hjust = -0.5))+\n",
    "  labs(title = 'Number of Matches Hosted in Different Stadiums', y = 'Matches',\n",
    "       x = 'Name of Stadium',  tag = 'A5')"
   ]
  },
  {
   "cell_type": "markdown",
   "id": "4eb41acc",
   "metadata": {},
   "source": [
    "## Box Plots for Wins by Runs and Wickets"
   ]
  },
  {
   "cell_type": "code",
   "execution_count": 43,
   "id": "b6f14581",
   "metadata": {},
   "outputs": [],
   "source": [
    "win.runs = ipl %>% filter(result == 'runs') %>% \n",
    "  filter(winner != 'Kochi Tuskers Kerala') %>% \n",
    "  filter(winner != 'Gujarat Lions') %>% \n",
    "  filter(winner != 'Pune Warriors') %>% \n",
    "  filter(winner != 'Rising Pune Supergiants')"
   ]
  },
  {
   "cell_type": "code",
   "execution_count": 53,
   "id": "68644275",
   "metadata": {},
   "outputs": [
    {
     "data": {
      "image/png": "[encoded data removed]",
      "text/plain": [
       "plot without title"
      ]
     },
     "metadata": {},
     "output_type": "display_data"
    }
   ],
   "source": [
    "ggplot(win.runs, aes(x = winner, y = result_margin, fill = winner)) + \n",
    "  geom_boxplot() + theme(legend.position = 'none', axis.text.x = element_text(size = 5.5)) +\n",
    "  labs( x = 'Teams', title = 'Box Plot for Win by Runs', tag = 'A6')"
   ]
  },
  {
   "cell_type": "code",
   "execution_count": 50,
   "id": "f7e3e9e9",
   "metadata": {},
   "outputs": [],
   "source": [
    "win.wks = ipl %>% filter(result == 'wickets') %>% \n",
    "  filter(winner != 'Kochi Tuskers Kerala') %>% \n",
    "  filter(winner != 'Gujarat Lions') %>% \n",
    "  filter(winner != 'Pune Warriors') %>% \n",
    "  filter(winner != 'Rising Pune Supergiants')"
   ]
  },
  {
   "cell_type": "code",
   "execution_count": 55,
   "id": "2dfca5d0",
   "metadata": {},
   "outputs": [
    {
     "data": {
      "image/png": "[encoded data removed]",
      "text/plain": [
       "plot without title"
      ]
     },
     "metadata": {},
     "output_type": "display_data"
    }
   ],
   "source": [
    "ggplot(win.wks, aes(x = winner, y = result_margin, fill = winner))+\n",
    "  geom_boxplot() +  theme(legend.position = 'none', axis.text.x = element_text(size = 5.5))+\n",
    "  labs( x = 'Teams', title = 'Box Plot for Win by Wickets', tag = 'A7')"
   ]
  },
  {
   "cell_type": "markdown",
   "id": "787cbe8e",
   "metadata": {},
   "source": [
    "## Train and Test Data"
   ]
  },
  {
   "cell_type": "markdown",
   "id": "c040af8c",
   "metadata": {},
   "source": [
    "### removing the unneccessary columns"
   ]
  },
  {
   "cell_type": "code",
   "execution_count": 20,
   "id": "f1e33cf6",
   "metadata": {},
   "outputs": [
    {
     "data": {
      "text/html": [
       "<ol class=list-inline>\n",
       "\t<li>'id'</li>\n",
       "\t<li>'city'</li>\n",
       "\t<li>'Season'</li>\n",
       "\t<li>'player_of_match'</li>\n",
       "\t<li>'venue'</li>\n",
       "\t<li>'neutral_venue'</li>\n",
       "\t<li>'team1'</li>\n",
       "\t<li>'team2'</li>\n",
       "\t<li>'toss_winner'</li>\n",
       "\t<li>'toss_decision'</li>\n",
       "\t<li>'winner'</li>\n",
       "\t<li>'result'</li>\n",
       "\t<li>'result_margin'</li>\n",
       "\t<li>'playoff'</li>\n",
       "\t<li>'team1.IPL_titles'</li>\n",
       "\t<li>'team2.IPL_titles'</li>\n",
       "\t<li>'team1_captain.change'</li>\n",
       "\t<li>'team2_captain.change'</li>\n",
       "\t<li>'umpire1'</li>\n",
       "\t<li>'umpire2'</li>\n",
       "</ol>\n"
      ],
      "text/latex": [
       "\\begin{enumerate*}\n",
       "\\item 'id'\n",
       "\\item 'city'\n",
       "\\item 'Season'\n",
       "\\item 'player\\_of\\_match'\n",
       "\\item 'venue'\n",
       "\\item 'neutral\\_venue'\n",
       "\\item 'team1'\n",
       "\\item 'team2'\n",
       "\\item 'toss\\_winner'\n",
       "\\item 'toss\\_decision'\n",
       "\\item 'winner'\n",
       "\\item 'result'\n",
       "\\item 'result\\_margin'\n",
       "\\item 'playoff'\n",
       "\\item 'team1.IPL\\_titles'\n",
       "\\item 'team2.IPL\\_titles'\n",
       "\\item 'team1\\_captain.change'\n",
       "\\item 'team2\\_captain.change'\n",
       "\\item 'umpire1'\n",
       "\\item 'umpire2'\n",
       "\\end{enumerate*}\n"
      ],
      "text/markdown": [
       "1. 'id'\n",
       "2. 'city'\n",
       "3. 'Season'\n",
       "4. 'player_of_match'\n",
       "5. 'venue'\n",
       "6. 'neutral_venue'\n",
       "7. 'team1'\n",
       "8. 'team2'\n",
       "9. 'toss_winner'\n",
       "10. 'toss_decision'\n",
       "11. 'winner'\n",
       "12. 'result'\n",
       "13. 'result_margin'\n",
       "14. 'playoff'\n",
       "15. 'team1.IPL_titles'\n",
       "16. 'team2.IPL_titles'\n",
       "17. 'team1_captain.change'\n",
       "18. 'team2_captain.change'\n",
       "19. 'umpire1'\n",
       "20. 'umpire2'\n",
       "\n",
       "\n"
      ],
      "text/plain": [
       " [1] \"id\"                   \"city\"                 \"Season\"              \n",
       " [4] \"player_of_match\"      \"venue\"                \"neutral_venue\"       \n",
       " [7] \"team1\"                \"team2\"                \"toss_winner\"         \n",
       "[10] \"toss_decision\"        \"winner\"               \"result\"              \n",
       "[13] \"result_margin\"        \"playoff\"              \"team1.IPL_titles\"    \n",
       "[16] \"team2.IPL_titles\"     \"team1_captain.change\" \"team2_captain.change\"\n",
       "[19] \"umpire1\"              \"umpire2\"             "
      ]
     },
     "metadata": {},
     "output_type": "display_data"
    }
   ],
   "source": [
    "names(ipl)"
   ]
  },
  {
   "cell_type": "code",
   "execution_count": 21,
   "id": "4eee70dc",
   "metadata": {},
   "outputs": [],
   "source": [
    "ipl = select(ipl, -c(id,Season, player_of_match))"
   ]
  },
  {
   "cell_type": "code",
   "execution_count": 22,
   "id": "6b93a6d3",
   "metadata": {},
   "outputs": [
    {
     "data": {
      "text/html": [
       "<ol class=list-inline>\n",
       "\t<li>'city'</li>\n",
       "\t<li>'venue'</li>\n",
       "\t<li>'neutral_venue'</li>\n",
       "\t<li>'team1'</li>\n",
       "\t<li>'team2'</li>\n",
       "\t<li>'toss_winner'</li>\n",
       "\t<li>'toss_decision'</li>\n",
       "\t<li>'winner'</li>\n",
       "\t<li>'result'</li>\n",
       "\t<li>'result_margin'</li>\n",
       "\t<li>'playoff'</li>\n",
       "\t<li>'team1.IPL_titles'</li>\n",
       "\t<li>'team2.IPL_titles'</li>\n",
       "\t<li>'team1_captain.change'</li>\n",
       "\t<li>'team2_captain.change'</li>\n",
       "\t<li>'umpire1'</li>\n",
       "\t<li>'umpire2'</li>\n",
       "</ol>\n"
      ],
      "text/latex": [
       "\\begin{enumerate*}\n",
       "\\item 'city'\n",
       "\\item 'venue'\n",
       "\\item 'neutral\\_venue'\n",
       "\\item 'team1'\n",
       "\\item 'team2'\n",
       "\\item 'toss\\_winner'\n",
       "\\item 'toss\\_decision'\n",
       "\\item 'winner'\n",
       "\\item 'result'\n",
       "\\item 'result\\_margin'\n",
       "\\item 'playoff'\n",
       "\\item 'team1.IPL\\_titles'\n",
       "\\item 'team2.IPL\\_titles'\n",
       "\\item 'team1\\_captain.change'\n",
       "\\item 'team2\\_captain.change'\n",
       "\\item 'umpire1'\n",
       "\\item 'umpire2'\n",
       "\\end{enumerate*}\n"
      ],
      "text/markdown": [
       "1. 'city'\n",
       "2. 'venue'\n",
       "3. 'neutral_venue'\n",
       "4. 'team1'\n",
       "5. 'team2'\n",
       "6. 'toss_winner'\n",
       "7. 'toss_decision'\n",
       "8. 'winner'\n",
       "9. 'result'\n",
       "10. 'result_margin'\n",
       "11. 'playoff'\n",
       "12. 'team1.IPL_titles'\n",
       "13. 'team2.IPL_titles'\n",
       "14. 'team1_captain.change'\n",
       "15. 'team2_captain.change'\n",
       "16. 'umpire1'\n",
       "17. 'umpire2'\n",
       "\n",
       "\n"
      ],
      "text/plain": [
       " [1] \"city\"                 \"venue\"                \"neutral_venue\"       \n",
       " [4] \"team1\"                \"team2\"                \"toss_winner\"         \n",
       " [7] \"toss_decision\"        \"winner\"               \"result\"              \n",
       "[10] \"result_margin\"        \"playoff\"              \"team1.IPL_titles\"    \n",
       "[13] \"team2.IPL_titles\"     \"team1_captain.change\" \"team2_captain.change\"\n",
       "[16] \"umpire1\"              \"umpire2\"             "
      ]
     },
     "metadata": {},
     "output_type": "display_data"
    }
   ],
   "source": [
    "names(ipl)"
   ]
  },
  {
   "cell_type": "code",
   "execution_count": 34,
   "id": "7f46fa52",
   "metadata": {},
   "outputs": [],
   "source": [
    "df = read.csv('ipl_matches.csv', stringsAsFactors = T)"
   ]
  },
  {
   "cell_type": "code",
   "execution_count": 36,
   "id": "ab4eabc7",
   "metadata": {},
   "outputs": [],
   "source": [
    "df = select(df, -c(id,Season, player_of_match))"
   ]
  },
  {
   "cell_type": "code",
   "execution_count": 37,
   "id": "62969abb",
   "metadata": {},
   "outputs": [],
   "source": [
    "train = df[1:633, ]\n",
    "\n",
    "test = df[634:812, ]"
   ]
  },
  {
   "cell_type": "markdown",
   "id": "ba67cbfd",
   "metadata": {},
   "source": [
    "## Training the model under random forest method"
   ]
  },
  {
   "cell_type": "code",
   "execution_count": 26,
   "id": "c2790f6f",
   "metadata": {},
   "outputs": [
    {
     "name": "stderr",
     "output_type": "stream",
     "text": [
      "randomForest 4.6-14\n",
      "Type rfNews() to see new features/changes/bug fixes.\n",
      "\n",
      "Attaching package: 'randomForest'\n",
      "\n",
      "The following object is masked from 'package:dplyr':\n",
      "\n",
      "    combine\n",
      "\n",
      "The following object is masked from 'package:ggplot2':\n",
      "\n",
      "    margin\n",
      "\n"
     ]
    }
   ],
   "source": [
    "library(randomForest)"
   ]
  },
  {
   "cell_type": "code",
   "execution_count": 38,
   "id": "1bc51946",
   "metadata": {},
   "outputs": [],
   "source": [
    "ipl.rf = randomForest(winner~., data = train, importance = TRUE, ntree = 2001)"
   ]
  },
  {
   "cell_type": "code",
   "execution_count": 39,
   "id": "dc96c1cd",
   "metadata": {},
   "outputs": [
    {
     "data": {
      "text/plain": [
       "\n",
       "Call:\n",
       " randomForest(formula = winner ~ ., data = train, importance = TRUE,      ntree = 2001) \n",
       "               Type of random forest: classification\n",
       "                     Number of trees: 2001\n",
       "No. of variables tried at each split: 4\n",
       "\n",
       "        OOB estimate of  error rate: 24.33%\n",
       "Confusion matrix:\n",
       "                            Chennai Super Kings Delhi Capitals Gujarat Lions\n",
       "Chennai Super Kings                          64              2             0\n",
       "Delhi Capitals                                2             41             0\n",
       "Gujarat Lions                                 0              1             8\n",
       "Kings XI Punjab                               5              2             0\n",
       "Kochi Tuskers Kerala                          0              0             0\n",
       "Kolkata Knight Riders                         3              1             0\n",
       "Mumbai Indians                                3              1             1\n",
       "Pune Warriors                                 2              1             0\n",
       "Rajasthan Royals                              1              1             0\n",
       "Rising Pune Supergiants                       0              0             0\n",
       "Royal Challengers Bangalore                   2              2             0\n",
       "Sunrisers Hyderabad                           1              3             0\n",
       "                            Kings XI Punjab Kochi Tuskers Kerala\n",
       "Chennai Super Kings                       2                    0\n",
       "Delhi Capitals                            4                    0\n",
       "Gujarat Lions                             1                    0\n",
       "Kings XI Punjab                          47                    0\n",
       "Kochi Tuskers Kerala                      1                    0\n",
       "Kolkata Knight Riders                     2                    0\n",
       "Mumbai Indians                            1                    0\n",
       "Pune Warriors                             1                    0\n",
       "Rajasthan Royals                          1                    0\n",
       "Rising Pune Supergiants                   2                    0\n",
       "Royal Challengers Bangalore               4                    0\n",
       "Sunrisers Hyderabad                       0                    0\n",
       "                            Kolkata Knight Riders Mumbai Indians Pune Warriors\n",
       "Chennai Super Kings                             3              2             0\n",
       "Delhi Capitals                                  3              2             0\n",
       "Gujarat Lions                                   0              1             0\n",
       "Kings XI Punjab                                 5              3             1\n",
       "Kochi Tuskers Kerala                            2              1             0\n",
       "Kolkata Knight Riders                          62              2             1\n",
       "Mumbai Indians                                  2             79             0\n",
       "Pune Warriors                                   1              2             3\n",
       "Rajasthan Royals                                2              3             0\n",
       "Rising Pune Supergiants                         1              2             0\n",
       "Royal Challengers Bangalore                     2              3             0\n",
       "Sunrisers Hyderabad                             1              0             0\n",
       "                            Rajasthan Royals Rising Pune Supergiants\n",
       "Chennai Super Kings                        3                       0\n",
       "Delhi Capitals                             2                       1\n",
       "Gujarat Lions                              0                       0\n",
       "Kings XI Punjab                            0                       2\n",
       "Kochi Tuskers Kerala                       0                       0\n",
       "Kolkata Knight Riders                      1                       0\n",
       "Mumbai Indians                             3                       0\n",
       "Pune Warriors                              1                       0\n",
       "Rajasthan Royals                          53                       0\n",
       "Rising Pune Supergiants                    0                       6\n",
       "Royal Challengers Bangalore                2                       0\n",
       "Sunrisers Hyderabad                        3                       0\n",
       "                            Royal Challengers Bangalore Sunrisers Hyderabad\n",
       "Chennai Super Kings                                   2                   1\n",
       "Delhi Capitals                                        5                   2\n",
       "Gujarat Lions                                         2                   0\n",
       "Kings XI Punjab                                       2                   3\n",
       "Kochi Tuskers Kerala                                  2                   0\n",
       "Kolkata Knight Riders                                 3                   2\n",
       "Mumbai Indians                                        0                   2\n",
       "Pune Warriors                                         0                   1\n",
       "Rajasthan Royals                                      1                   1\n",
       "Rising Pune Supergiants                               2                   2\n",
       "Royal Challengers Bangalore                          55                   3\n",
       "Sunrisers Hyderabad                                   2                  61\n",
       "                            class.error\n",
       "Chennai Super Kings           0.1898734\n",
       "Delhi Capitals                0.3387097\n",
       "Gujarat Lions                 0.3846154\n",
       "Kings XI Punjab               0.3285714\n",
       "Kochi Tuskers Kerala          1.0000000\n",
       "Kolkata Knight Riders         0.1948052\n",
       "Mumbai Indians                0.1413043\n",
       "Pune Warriors                 0.7500000\n",
       "Rajasthan Royals              0.1587302\n",
       "Rising Pune Supergiants       0.6000000\n",
       "Royal Challengers Bangalore   0.2465753\n",
       "Sunrisers Hyderabad           0.1408451"
      ]
     },
     "metadata": {},
     "output_type": "display_data"
    }
   ],
   "source": [
    "ipl.rf"
   ]
  },
  {
   "cell_type": "markdown",
   "id": "14d61325",
   "metadata": {},
   "source": [
    "## Accurracy: 75 % "
   ]
  },
  {
   "cell_type": "code",
   "execution_count": 40,
   "id": "863b93fc",
   "metadata": {},
   "outputs": [
    {
     "data": {
      "image/png": "[encoded data removed]",
      "text/plain": [
       "Plot with title \"ipl.rf\""
      ]
     },
     "metadata": {},
     "output_type": "display_data"
    }
   ],
   "source": [
    "plot(ipl.rf)"
   ]
  },
  {
   "cell_type": "markdown",
   "id": "a6f9e4d4",
   "metadata": {},
   "source": [
    "## Predictions"
   ]
  },
  {
   "cell_type": "code",
   "execution_count": 53,
   "id": "e1b194dd",
   "metadata": {},
   "outputs": [],
   "source": [
    "result = data.frame(test$winner, predict(ipl.rf, test[,-c(9)], \n",
    "                                         type = 'response'))"
   ]
  },
  {
   "cell_type": "markdown",
   "id": "07ab193e",
   "metadata": {},
   "source": [
    "## Checking the results"
   ]
  },
  {
   "cell_type": "code",
   "execution_count": 54,
   "id": "33c8baf0",
   "metadata": {},
   "outputs": [
    {
     "data": {
      "text/html": [
       "<table>\n",
       "<thead><tr><th></th><th scope=col>test.winner</th><th scope=col>predict.ipl.rf..test....c.9....type....response..</th></tr></thead>\n",
       "<tbody>\n",
       "\t<tr><th scope=row>634</th><td>Chennai Super Kings        </td><td>Chennai Super Kings        </td></tr>\n",
       "\t<tr><th scope=row>635</th><td>Kings XI Punjab            </td><td>Kings XI Punjab            </td></tr>\n",
       "\t<tr><th scope=row>636</th><td>Kolkata Knight Riders      </td><td>Kolkata Knight Riders      </td></tr>\n",
       "\t<tr><th scope=row>637</th><td>Sunrisers Hyderabad        </td><td>Sunrisers Hyderabad        </td></tr>\n",
       "\t<tr><th scope=row>638</th><td>Chennai Super Kings        </td><td>Chennai Super Kings        </td></tr>\n",
       "\t<tr><th scope=row>639</th><td>Rajasthan Royals           </td><td>Rajasthan Royals           </td></tr>\n",
       "\t<tr><th scope=row>640</th><td>Sunrisers Hyderabad        </td><td>Sunrisers Hyderabad        </td></tr>\n",
       "\t<tr><th scope=row>641</th><td>Royal Challengers Bangalore</td><td>Royal Challengers Bangalore</td></tr>\n",
       "\t<tr><th scope=row>642</th><td>Delhi Capitals             </td><td>Mumbai Indians             </td></tr>\n",
       "\t<tr><th scope=row>643</th><td>Sunrisers Hyderabad        </td><td>Kolkata Knight Riders      </td></tr>\n",
       "</tbody>\n",
       "</table>\n"
      ],
      "text/latex": [
       "\\begin{tabular}{r|ll}\n",
       "  & test.winner & predict.ipl.rf..test....c.9....type....response..\\\\\n",
       "\\hline\n",
       "\t634 & Chennai Super Kings         & Chennai Super Kings        \\\\\n",
       "\t635 & Kings XI Punjab             & Kings XI Punjab            \\\\\n",
       "\t636 & Kolkata Knight Riders       & Kolkata Knight Riders      \\\\\n",
       "\t637 & Sunrisers Hyderabad         & Sunrisers Hyderabad        \\\\\n",
       "\t638 & Chennai Super Kings         & Chennai Super Kings        \\\\\n",
       "\t639 & Rajasthan Royals            & Rajasthan Royals           \\\\\n",
       "\t640 & Sunrisers Hyderabad         & Sunrisers Hyderabad        \\\\\n",
       "\t641 & Royal Challengers Bangalore & Royal Challengers Bangalore\\\\\n",
       "\t642 & Delhi Capitals              & Mumbai Indians             \\\\\n",
       "\t643 & Sunrisers Hyderabad         & Kolkata Knight Riders      \\\\\n",
       "\\end{tabular}\n"
      ],
      "text/markdown": [
       "\n",
       "| <!--/--> | test.winner | predict.ipl.rf..test....c.9....type....response.. |\n",
       "|---|---|---|\n",
       "| 634 | Chennai Super Kings         | Chennai Super Kings         |\n",
       "| 635 | Kings XI Punjab             | Kings XI Punjab             |\n",
       "| 636 | Kolkata Knight Riders       | Kolkata Knight Riders       |\n",
       "| 637 | Sunrisers Hyderabad         | Sunrisers Hyderabad         |\n",
       "| 638 | Chennai Super Kings         | Chennai Super Kings         |\n",
       "| 639 | Rajasthan Royals            | Rajasthan Royals            |\n",
       "| 640 | Sunrisers Hyderabad         | Sunrisers Hyderabad         |\n",
       "| 641 | Royal Challengers Bangalore | Royal Challengers Bangalore |\n",
       "| 642 | Delhi Capitals              | Mumbai Indians              |\n",
       "| 643 | Sunrisers Hyderabad         | Kolkata Knight Riders       |\n",
       "\n"
      ],
      "text/plain": [
       "    test.winner                \n",
       "634 Chennai Super Kings        \n",
       "635 Kings XI Punjab            \n",
       "636 Kolkata Knight Riders      \n",
       "637 Sunrisers Hyderabad        \n",
       "638 Chennai Super Kings        \n",
       "639 Rajasthan Royals           \n",
       "640 Sunrisers Hyderabad        \n",
       "641 Royal Challengers Bangalore\n",
       "642 Delhi Capitals             \n",
       "643 Sunrisers Hyderabad        \n",
       "    predict.ipl.rf..test....c.9....type....response..\n",
       "634 Chennai Super Kings                              \n",
       "635 Kings XI Punjab                                  \n",
       "636 Kolkata Knight Riders                            \n",
       "637 Sunrisers Hyderabad                              \n",
       "638 Chennai Super Kings                              \n",
       "639 Rajasthan Royals                                 \n",
       "640 Sunrisers Hyderabad                              \n",
       "641 Royal Challengers Bangalore                      \n",
       "642 Mumbai Indians                                   \n",
       "643 Kolkata Knight Riders                            "
      ]
     },
     "metadata": {},
     "output_type": "display_data"
    }
   ],
   "source": [
    "head(result,10)"
   ]
  },
  {
   "cell_type": "code",
   "execution_count": 59,
   "id": "4d446e64",
   "metadata": {},
   "outputs": [],
   "source": [
    "my.pred = rename(result, Actual_Winner = test.winner)"
   ]
  },
  {
   "cell_type": "code",
   "execution_count": 63,
   "id": "83e0e2d0",
   "metadata": {},
   "outputs": [],
   "source": [
    "my.pred = rename(result, Predicted_winner = \n",
    "                   predict.ipl.rf..test....c.9....type....response..)"
   ]
  },
  {
   "cell_type": "code",
   "execution_count": 64,
   "id": "13831b63",
   "metadata": {},
   "outputs": [
    {
     "data": {
      "text/html": [
       "<table>\n",
       "<thead><tr><th></th><th scope=col>test.winner</th><th scope=col>Predicted_winner</th></tr></thead>\n",
       "<tbody>\n",
       "\t<tr><th scope=row>634</th><td>Chennai Super Kings        </td><td>Chennai Super Kings        </td></tr>\n",
       "\t<tr><th scope=row>635</th><td>Kings XI Punjab            </td><td>Kings XI Punjab            </td></tr>\n",
       "\t<tr><th scope=row>636</th><td>Kolkata Knight Riders      </td><td>Kolkata Knight Riders      </td></tr>\n",
       "\t<tr><th scope=row>637</th><td>Sunrisers Hyderabad        </td><td>Sunrisers Hyderabad        </td></tr>\n",
       "\t<tr><th scope=row>638</th><td>Chennai Super Kings        </td><td>Chennai Super Kings        </td></tr>\n",
       "\t<tr><th scope=row>639</th><td>Rajasthan Royals           </td><td>Rajasthan Royals           </td></tr>\n",
       "\t<tr><th scope=row>640</th><td>Sunrisers Hyderabad        </td><td>Sunrisers Hyderabad        </td></tr>\n",
       "\t<tr><th scope=row>641</th><td>Royal Challengers Bangalore</td><td>Royal Challengers Bangalore</td></tr>\n",
       "\t<tr><th scope=row>642</th><td>Delhi Capitals             </td><td>Mumbai Indians             </td></tr>\n",
       "\t<tr><th scope=row>643</th><td>Sunrisers Hyderabad        </td><td>Kolkata Knight Riders      </td></tr>\n",
       "</tbody>\n",
       "</table>\n"
      ],
      "text/latex": [
       "\\begin{tabular}{r|ll}\n",
       "  & test.winner & Predicted\\_winner\\\\\n",
       "\\hline\n",
       "\t634 & Chennai Super Kings         & Chennai Super Kings        \\\\\n",
       "\t635 & Kings XI Punjab             & Kings XI Punjab            \\\\\n",
       "\t636 & Kolkata Knight Riders       & Kolkata Knight Riders      \\\\\n",
       "\t637 & Sunrisers Hyderabad         & Sunrisers Hyderabad        \\\\\n",
       "\t638 & Chennai Super Kings         & Chennai Super Kings        \\\\\n",
       "\t639 & Rajasthan Royals            & Rajasthan Royals           \\\\\n",
       "\t640 & Sunrisers Hyderabad         & Sunrisers Hyderabad        \\\\\n",
       "\t641 & Royal Challengers Bangalore & Royal Challengers Bangalore\\\\\n",
       "\t642 & Delhi Capitals              & Mumbai Indians             \\\\\n",
       "\t643 & Sunrisers Hyderabad         & Kolkata Knight Riders      \\\\\n",
       "\\end{tabular}\n"
      ],
      "text/markdown": [
       "\n",
       "| <!--/--> | test.winner | Predicted_winner |\n",
       "|---|---|---|\n",
       "| 634 | Chennai Super Kings         | Chennai Super Kings         |\n",
       "| 635 | Kings XI Punjab             | Kings XI Punjab             |\n",
       "| 636 | Kolkata Knight Riders       | Kolkata Knight Riders       |\n",
       "| 637 | Sunrisers Hyderabad         | Sunrisers Hyderabad         |\n",
       "| 638 | Chennai Super Kings         | Chennai Super Kings         |\n",
       "| 639 | Rajasthan Royals            | Rajasthan Royals            |\n",
       "| 640 | Sunrisers Hyderabad         | Sunrisers Hyderabad         |\n",
       "| 641 | Royal Challengers Bangalore | Royal Challengers Bangalore |\n",
       "| 642 | Delhi Capitals              | Mumbai Indians              |\n",
       "| 643 | Sunrisers Hyderabad         | Kolkata Knight Riders       |\n",
       "\n"
      ],
      "text/plain": [
       "    test.winner                 Predicted_winner           \n",
       "634 Chennai Super Kings         Chennai Super Kings        \n",
       "635 Kings XI Punjab             Kings XI Punjab            \n",
       "636 Kolkata Knight Riders       Kolkata Knight Riders      \n",
       "637 Sunrisers Hyderabad         Sunrisers Hyderabad        \n",
       "638 Chennai Super Kings         Chennai Super Kings        \n",
       "639 Rajasthan Royals            Rajasthan Royals           \n",
       "640 Sunrisers Hyderabad         Sunrisers Hyderabad        \n",
       "641 Royal Challengers Bangalore Royal Challengers Bangalore\n",
       "642 Delhi Capitals              Mumbai Indians             \n",
       "643 Sunrisers Hyderabad         Kolkata Knight Riders      "
      ]
     },
     "metadata": {},
     "output_type": "display_data"
    }
   ],
   "source": [
    "head(my.pred,10)"
   ]
  },
  {
   "cell_type": "code",
   "execution_count": 65,
   "id": "fb525cb3",
   "metadata": {},
   "outputs": [
    {
     "data": {
      "text/html": [
       "<table>\n",
       "<thead><tr><th></th><th scope=col>test.winner</th><th scope=col>Predicted_winner</th></tr></thead>\n",
       "<tbody>\n",
       "\t<tr><th scope=row>803</th><td>Sunrisers Hyderabad        </td><td>Sunrisers Hyderabad        </td></tr>\n",
       "\t<tr><th scope=row>804</th><td>Delhi Capitals             </td><td>Delhi Capitals             </td></tr>\n",
       "\t<tr><th scope=row>805</th><td>Chennai Super Kings        </td><td>Chennai Super Kings        </td></tr>\n",
       "\t<tr><th scope=row>806</th><td>Kolkata Knight Riders      </td><td>Kolkata Knight Riders      </td></tr>\n",
       "\t<tr><th scope=row>807</th><td>Kings XI Punjab            </td><td>Kings XI Punjab            </td></tr>\n",
       "\t<tr><th scope=row>808</th><td>Royal Challengers Bangalore</td><td>Mumbai Indians             </td></tr>\n",
       "\t<tr><th scope=row>809</th><td>Mumbai Indians             </td><td>Mumbai Indians             </td></tr>\n",
       "\t<tr><th scope=row>810</th><td>Sunrisers Hyderabad        </td><td>Sunrisers Hyderabad        </td></tr>\n",
       "\t<tr><th scope=row>811</th><td>Delhi Capitals             </td><td>Delhi Capitals             </td></tr>\n",
       "\t<tr><th scope=row>812</th><td>Mumbai Indians             </td><td>Mumbai Indians             </td></tr>\n",
       "</tbody>\n",
       "</table>\n"
      ],
      "text/latex": [
       "\\begin{tabular}{r|ll}\n",
       "  & test.winner & Predicted\\_winner\\\\\n",
       "\\hline\n",
       "\t803 & Sunrisers Hyderabad         & Sunrisers Hyderabad        \\\\\n",
       "\t804 & Delhi Capitals              & Delhi Capitals             \\\\\n",
       "\t805 & Chennai Super Kings         & Chennai Super Kings        \\\\\n",
       "\t806 & Kolkata Knight Riders       & Kolkata Knight Riders      \\\\\n",
       "\t807 & Kings XI Punjab             & Kings XI Punjab            \\\\\n",
       "\t808 & Royal Challengers Bangalore & Mumbai Indians             \\\\\n",
       "\t809 & Mumbai Indians              & Mumbai Indians             \\\\\n",
       "\t810 & Sunrisers Hyderabad         & Sunrisers Hyderabad        \\\\\n",
       "\t811 & Delhi Capitals              & Delhi Capitals             \\\\\n",
       "\t812 & Mumbai Indians              & Mumbai Indians             \\\\\n",
       "\\end{tabular}\n"
      ],
      "text/markdown": [
       "\n",
       "| <!--/--> | test.winner | Predicted_winner |\n",
       "|---|---|---|\n",
       "| 803 | Sunrisers Hyderabad         | Sunrisers Hyderabad         |\n",
       "| 804 | Delhi Capitals              | Delhi Capitals              |\n",
       "| 805 | Chennai Super Kings         | Chennai Super Kings         |\n",
       "| 806 | Kolkata Knight Riders       | Kolkata Knight Riders       |\n",
       "| 807 | Kings XI Punjab             | Kings XI Punjab             |\n",
       "| 808 | Royal Challengers Bangalore | Mumbai Indians              |\n",
       "| 809 | Mumbai Indians              | Mumbai Indians              |\n",
       "| 810 | Sunrisers Hyderabad         | Sunrisers Hyderabad         |\n",
       "| 811 | Delhi Capitals              | Delhi Capitals              |\n",
       "| 812 | Mumbai Indians              | Mumbai Indians              |\n",
       "\n"
      ],
      "text/plain": [
       "    test.winner                 Predicted_winner     \n",
       "803 Sunrisers Hyderabad         Sunrisers Hyderabad  \n",
       "804 Delhi Capitals              Delhi Capitals       \n",
       "805 Chennai Super Kings         Chennai Super Kings  \n",
       "806 Kolkata Knight Riders       Kolkata Knight Riders\n",
       "807 Kings XI Punjab             Kings XI Punjab      \n",
       "808 Royal Challengers Bangalore Mumbai Indians       \n",
       "809 Mumbai Indians              Mumbai Indians       \n",
       "810 Sunrisers Hyderabad         Sunrisers Hyderabad  \n",
       "811 Delhi Capitals              Delhi Capitals       \n",
       "812 Mumbai Indians              Mumbai Indians       "
      ]
     },
     "metadata": {},
     "output_type": "display_data"
    }
   ],
   "source": [
    "tail(my.pred,10)"
   ]
  },
  {
   "cell_type": "markdown",
   "id": "f60398a9",
   "metadata": {},
   "source": [
    "## Exporting Predictions into csv file"
   ]
  },
  {
   "cell_type": "code",
   "execution_count": null,
   "id": "54da4246",
   "metadata": {},
   "outputs": [],
   "source": [
    "write.csv(my.pred, file = 'IPL_Pred.csv')"
   ]
  }
 ],
 "metadata": {
  "kernelspec": {
   "display_name": "R",
   "language": "R",
   "name": "ir"
  },
  "language_info": {
   "codemirror_mode": "r",
   "file_extension": ".r",
   "mimetype": "text/x-r-source",
   "name": "R",
   "pygments_lexer": "r",
   "version": "3.6.1"
  }
 },
 "nbformat": 4,
 "nbformat_minor": 5
}
